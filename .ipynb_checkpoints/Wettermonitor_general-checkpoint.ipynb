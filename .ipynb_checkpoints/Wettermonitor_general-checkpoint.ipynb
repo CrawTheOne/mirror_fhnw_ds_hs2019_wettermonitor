{
 "cells": [
  {
   "cell_type": "markdown",
   "metadata": {},
   "source": [
    "# Wettermonitor"
   ]
  },
  {
   "cell_type": "markdown",
   "metadata": {},
   "source": [
    "### Libraries"
   ]
  },
  {
   "cell_type": "code",
   "execution_count": 1,
   "metadata": {},
   "outputs": [
    {
     "name": "stdout",
     "output_type": "stream",
     "text": [
      "Requirement already satisfied: influxdb in c:\\programdata\\anaconda3\\lib\\site-packages (5.2.3)\n",
      "Requirement already satisfied: python-dateutil>=2.6.0 in c:\\programdata\\anaconda3\\lib\\site-packages (from influxdb) (2.8.1)\n",
      "Requirement already satisfied: pytz in c:\\programdata\\anaconda3\\lib\\site-packages (from influxdb) (2019.3)\n",
      "Requirement already satisfied: six>=1.10.0 in c:\\programdata\\anaconda3\\lib\\site-packages (from influxdb) (1.13.0)\n",
      "Requirement already satisfied: requests>=2.17.0 in c:\\programdata\\anaconda3\\lib\\site-packages (from influxdb) (2.22.0)\n",
      "Requirement already satisfied: idna<2.9,>=2.5 in c:\\programdata\\anaconda3\\lib\\site-packages (from requests>=2.17.0->influxdb) (2.8)\n",
      "Requirement already satisfied: urllib3!=1.25.0,!=1.25.1,<1.26,>=1.21.1 in c:\\programdata\\anaconda3\\lib\\site-packages (from requests>=2.17.0->influxdb) (1.24.2)\n",
      "Requirement already satisfied: chardet<3.1.0,>=3.0.2 in c:\\programdata\\anaconda3\\lib\\site-packages (from requests>=2.17.0->influxdb) (3.0.4)\n",
      "Requirement already satisfied: certifi>=2017.4.17 in c:\\programdata\\anaconda3\\lib\\site-packages (from requests>=2.17.0->influxdb) (2019.9.11)\n"
     ]
    }
   ],
   "source": [
    "# install the modules on the OS\n",
    "!pip install influxdb\n",
    "\n",
    "# import the modules\n",
    "import pandas as pd\n",
    "\n",
    "#add pandas version control 0.24\n",
    "#\n",
    "#\n",
    "#\n",
    "#\n",
    "\n",
    "from influxdb import DataFrameClient\n",
    "import os\n",
    "import subprocess\n",
    "from fhnw_ds_hs2019_weatherstation_api import data_import as weather"
   ]
  },
  {
   "cell_type": "code",
   "execution_count": 3,
   "metadata": {},
   "outputs": [
    {
     "name": "stdout",
     "output_type": "stream",
     "text": [
      "API functions correctly initiated\n"
     ]
    }
   ],
   "source": [
    "%run ./Modded_API.ipynb"
   ]
  },
  {
   "cell_type": "markdown",
   "metadata": {},
   "source": [
    "### Aufstellung Datebank "
   ]
  },
  {
   "cell_type": "code",
   "execution_count": 2,
   "metadata": {},
   "outputs": [
    {
     "name": "stdout",
     "output_type": "stream",
     "text": [
      "localhost:8086\n"
     ]
    },
    {
     "data": {
      "text/plain": [
       "<subprocess.Popen at 0x2021ec56ef0>"
      ]
     },
     "execution_count": 2,
     "metadata": {},
     "output_type": "execute_result"
    }
   ],
   "source": [
    "# define the database connection string\n",
    "\n",
    "#dynamic host\n",
    "#DB_HOST = subprocess.getoutput('hostname')\n",
    "DB_HOST = 'localhost'\n",
    "DB_PORT = 8086\n",
    "DB_DBNAME = 'meteorology'\n",
    "stations = ['mythenquai', 'tiefenbrunnen']\n",
    "\n",
    "print(DB_HOST +\":\"+str(DB_PORT))\n",
    "\n",
    "#Datenbank starten\n",
    "subprocess.Popen(\"./influxdb-1.7.8-1/influxd.exe\")\n",
    "subprocess.Popen(\"./influxdb-1.7.8-1/influx.exe\")\n",
    "\n"
   ]
  },
  {
   "cell_type": "markdown",
   "metadata": {},
   "source": [
    "Zugang/import auf Daten in DB"
   ]
  },
  {
   "cell_type": "code",
   "execution_count": null,
   "metadata": {},
   "outputs": [
    {
     "name": "stdout",
     "output_type": "stream",
     "text": [
      "Load historic data for mythenquai ...\n",
      "\tLoad .\\data\\messwerte_mythenquai_2007-2018.csv\n",
      "Add mythenquai from 2007-04-22 19:20:00+00:00 to 2007-07-01 05:50:00+00:00\n",
      "Add mythenquai from 2007-07-01 06:00:00+00:00 to 2007-09-08 16:30:00+00:00\n"
     ]
    }
   ],
   "source": [
    "#dynamisch anpassen\n",
    "os.chdir(\"./influxdb-1.7.8-1\")\n",
    "\n",
    "# DB and CSV config\n",
    "config = weather.Config()\n",
    "# define CSV path\n",
    "config.historic_data_folder='.'+os.sep+'data'\n",
    "# set batch size for DB inserts (decrease for raspberry pi)\n",
    "config.historic_data_chunksize=10000\n",
    "# define DB host\n",
    "config.db_host='localhost'\n",
    "\n",
    "# connect to DB\n",
    "weather.connect_db(config)\n",
    "# clean DB\n",
    "weather.clean_db(config)\n",
    "# import historic data\n",
    "weather.import_historic_data(config)\n",
    "# import latest data (delta between last data point in DB and current time)\n",
    "weather.import_latest_data(config, True, True)\n"
   ]
  },
  {
   "cell_type": "markdown",
   "metadata": {},
   "source": []
  },
  {
   "cell_type": "code",
   "execution_count": null,
   "metadata": {},
   "outputs": [],
   "source": [
    "client = DataFrameClient(host=DB_HOST, port=DB_PORT, database=DB_DBNAME)\n",
    "\n",
    "def main(host='localhost', port=8086):\n",
    "    \"\"\"Instantiate the connection to the InfluxDB client.\"\"\"\n",
    "    user = 'root'\n",
    "    password = 'root'\n",
    "    dbname = 'demo'\n",
    "    protocol = 'line'\n",
    "\n",
    "    print(\"Create pandas DataFrame\")\n",
    "    df = pd.DataFrame(data=list(range(30)),\n",
    "                      index=pd.date_range(start='2014-11-16',\n",
    "                                          periods=30, freq='H'), columns=['0'])\n",
    "\n",
    "    print(\"Create database: \" + dbname)\n",
    "    client.create_database(dbname)\n",
    "\n",
    "    print(\"Write DataFrame\")\n",
    "    client.write_points(df, 'demo', protocol=protocol)\n",
    "\n",
    "    print(\"Write DataFrame with Tags\")\n",
    "    client.write_points(df, 'demo',\n",
    "                        {'k1': 'v1', 'k2': 'v2'}, protocol=protocol)\n",
    "\n",
    "    print(\"Read DataFrame\")\n",
    "    client.query(\"select * from demo\")\n",
    "\n",
    "    print(\"Delete database: \" + dbname)\n",
    "    client.drop_database(dbname)\n"
   ]
  }
 ],
 "metadata": {
  "kernelspec": {
   "display_name": "Python 3",
   "language": "python",
   "name": "python3"
  },
  "language_info": {
   "codemirror_mode": {
    "name": "ipython",
    "version": 3
   },
   "file_extension": ".py",
   "mimetype": "text/x-python",
   "name": "python",
   "nbconvert_exporter": "python",
   "pygments_lexer": "ipython3",
   "version": "3.7.3"
  }
 },
 "nbformat": 4,
 "nbformat_minor": 2
}
