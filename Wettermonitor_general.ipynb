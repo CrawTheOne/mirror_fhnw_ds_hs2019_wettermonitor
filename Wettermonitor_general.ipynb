{
 "cells": [
  {
   "cell_type": "markdown",
   "metadata": {},
   "source": [
    "# Wettermonitor"
   ]
  },
  {
   "cell_type": "markdown",
   "metadata": {},
   "source": [
    "### Libraries"
   ]
  },
  {
   "cell_type": "code",
   "execution_count": 7,
   "metadata": {},
   "outputs": [],
   "source": [
    "# install the modules on the OS\n",
    "#!pip install influxdb\n",
    "\n",
    "# import the modules\n",
    "import pandas as pd\n",
    "\n",
    "#add pandas version control 0.24\n",
    "#\n",
    "#\n",
    "#\n",
    "#\n",
    "\n",
    "from influxdb import DataFrameClient, InfluxDBClient\n",
    "import os\n",
    "import subprocess\n",
    "from fhnw_ds_hs2019_weatherstation_api import data_import as weather"
   ]
  },
  {
   "cell_type": "markdown",
   "metadata": {},
   "source": [
    "### Aufstellung Datebank "
   ]
  },
  {
   "cell_type": "code",
   "execution_count": 8,
   "metadata": {},
   "outputs": [
    {
     "name": "stdout",
     "output_type": "stream",
     "text": [
      "localhost:8086\n"
     ]
    },
    {
     "data": {
      "text/plain": [
       "<subprocess.Popen at 0x18bf5d0cf98>"
      ]
     },
     "execution_count": 8,
     "metadata": {},
     "output_type": "execute_result"
    }
   ],
   "source": [
    "# define the database connection string\n",
    "\n",
    "#dynamic host\n",
    "#DB_HOST = subprocess.getoutput('hostname')\n",
    "DB_HOST = 'localhost'\n",
    "DB_PORT = 8086\n",
    "DB_DBNAME = 'meteorology'\n",
    "stations = ['mythenquai', 'tiefenbrunnen']\n",
    "\n",
    "print(DB_HOST +\":\"+str(DB_PORT))\n",
    "\n",
    "#Datenbank starten\n",
    "subprocess.Popen(\"./influxdb-1.7.8-1/influxd.exe\")\n",
    "subprocess.Popen(\"./influxdb-1.7.8-1/influx.exe\")\n",
    "\n"
   ]
  },
  {
   "cell_type": "markdown",
   "metadata": {},
   "source": [
    "Zugang/import auf Daten in DB"
   ]
  },
  {
   "cell_type": "code",
   "execution_count": 9,
   "metadata": {},
   "outputs": [],
   "source": [
    "os.chdir(\"./influxdb-1.7.8-1\")"
   ]
  },
  {
   "cell_type": "code",
   "execution_count": 15,
   "metadata": {},
   "outputs": [
    {
     "name": "stdout",
     "output_type": "stream",
     "text": [
      "Load historic data for mythenquai ...\n",
      "\tLoad ./\\data\\messwerte_mythenquai_2007-2018.csv\n",
      "Add mythenquai from 2007-04-22 19:20:00+00:00 to 2007-07-01 05:50:00+00:00\n",
      "Add mythenquai from 2007-07-01 06:00:00+00:00 to 2007-09-08 16:30:00+00:00\n",
      "Add mythenquai from 2007-09-08 16:40:00+00:00 to 2007-11-17 04:10:00+00:00\n",
      "Add mythenquai from 2007-11-17 04:20:00+00:00 to 2008-01-25 14:50:00+00:00\n",
      "Add mythenquai from 2008-01-25 15:00:00+00:00 to 2008-04-04 01:40:00+00:00\n",
      "Add mythenquai from 2008-04-04 01:50:00+00:00 to 2008-06-12 13:50:00+00:00\n",
      "Add mythenquai from 2008-06-12 14:00:00+00:00 to 2008-08-21 02:20:00+00:00\n",
      "Add mythenquai from 2008-08-21 02:30:00+00:00 to 2008-10-29 16:30:00+00:00\n",
      "Add mythenquai from 2008-10-29 16:40:00+00:00 to 2009-01-07 13:40:00+00:00\n",
      "Add mythenquai from 2009-01-07 13:50:00+00:00 to 2009-03-18 17:20:00+00:00\n",
      "Add mythenquai from 2009-03-18 17:30:00+00:00 to 2009-05-27 20:50:00+00:00\n",
      "Add mythenquai from 2009-05-27 21:00:00+00:00 to 2009-08-05 12:00:00+00:00\n",
      "Add mythenquai from 2009-08-05 12:10:00+00:00 to 2009-10-13 22:50:00+00:00\n",
      "Add mythenquai from 2009-10-13 23:00:00+00:00 to 2009-12-22 10:50:00+00:00\n",
      "Add mythenquai from 2009-12-22 11:00:00+00:00 to 2010-03-01 21:30:00+00:00\n",
      "Add mythenquai from 2010-03-01 21:40:00+00:00 to 2010-05-10 08:20:00+00:00\n",
      "Add mythenquai from 2010-05-10 08:30:00+00:00 to 2010-07-18 21:10:00+00:00\n",
      "Add mythenquai from 2010-07-18 21:20:00+00:00 to 2010-09-26 08:10:00+00:00\n",
      "Add mythenquai from 2010-09-26 08:20:00+00:00 to 2011-01-23 00:10:00+00:00\n",
      "Add mythenquai from 2011-01-23 00:20:00+00:00 to 2011-04-02 14:40:00+00:00\n",
      "Add mythenquai from 2011-04-02 14:50:00+00:00 to 2011-06-11 01:20:00+00:00\n",
      "Add mythenquai from 2011-06-11 01:30:00+00:00 to 2011-08-20 14:30:00+00:00\n",
      "Add mythenquai from 2011-08-20 14:40:00+00:00 to 2011-10-29 01:40:00+00:00\n",
      "Add mythenquai from 2011-10-29 01:50:00+00:00 to 2012-01-06 17:20:00+00:00\n",
      "Add mythenquai from 2012-01-06 17:30:00+00:00 to 2012-03-16 09:10:00+00:00\n",
      "Add mythenquai from 2012-03-16 09:20:00+00:00 to 2012-05-24 21:10:00+00:00\n",
      "Add mythenquai from 2012-05-24 21:20:00+00:00 to 2012-08-02 08:00:00+00:00\n",
      "Add mythenquai from 2012-08-02 08:10:00+00:00 to 2012-10-10 20:30:00+00:00\n",
      "Add mythenquai from 2012-10-10 20:40:00+00:00 to 2012-12-19 09:00:00+00:00\n",
      "Add mythenquai from 2012-12-19 09:10:00+00:00 to 2013-02-26 19:40:00+00:00\n",
      "Add mythenquai from 2013-02-26 19:50:00+00:00 to 2013-05-07 06:40:00+00:00\n",
      "Add mythenquai from 2013-05-07 06:50:00+00:00 to 2013-07-15 18:30:00+00:00\n",
      "Add mythenquai from 2013-07-15 18:40:00+00:00 to 2013-09-23 12:30:00+00:00\n",
      "Add mythenquai from 2013-09-23 12:40:00+00:00 to 2013-12-02 00:30:00+00:00\n",
      "Add mythenquai from 2013-12-02 00:40:00+00:00 to 2014-02-09 21:50:00+00:00\n",
      "Add mythenquai from 2014-02-09 22:00:00+00:00 to 2014-04-20 10:30:00+00:00\n",
      "Add mythenquai from 2014-04-20 10:40:00+00:00 to 2014-06-28 21:10:00+00:00\n",
      "Add mythenquai from 2014-06-28 21:20:00+00:00 to 2014-09-06 07:50:00+00:00\n",
      "Add mythenquai from 2014-09-06 08:00:00+00:00 to 2014-11-14 23:00:00+00:00\n",
      "Add mythenquai from 2014-11-14 23:10:00+00:00 to 2015-01-23 09:40:00+00:00\n",
      "Add mythenquai from 2015-01-23 09:50:00+00:00 to 2015-04-02 21:50:00+00:00\n",
      "Add mythenquai from 2015-04-02 22:00:00+00:00 to 2015-06-11 09:50:00+00:00\n",
      "Add mythenquai from 2015-06-11 10:00:00+00:00 to 2015-08-19 22:10:00+00:00\n",
      "Add mythenquai from 2015-08-19 22:20:00+00:00 to 2015-10-28 11:50:00+00:00\n",
      "Add mythenquai from 2015-10-28 12:00:00+00:00 to 2016-01-05 23:20:00+00:00\n",
      "Add mythenquai from 2016-01-05 23:30:00+00:00 to 2016-03-15 10:50:00+00:00\n",
      "Add mythenquai from 2016-03-15 11:00:00+00:00 to 2016-05-23 21:40:00+00:00\n",
      "Add mythenquai from 2016-05-23 21:50:00+00:00 to 2016-08-01 10:00:00+00:00\n",
      "Add mythenquai from 2016-08-01 10:10:00+00:00 to 2016-10-10 00:10:00+00:00\n",
      "Add mythenquai from 2016-10-10 00:20:00+00:00 to 2016-12-18 12:20:00+00:00\n",
      "Add mythenquai from 2016-12-18 12:30:00+00:00 to 2017-02-26 01:40:00+00:00\n",
      "Add mythenquai from 2017-02-26 01:50:00+00:00 to 2017-05-07 22:00:00+00:00\n",
      "Add mythenquai from 2017-05-07 22:10:00+00:00 to 2017-07-16 11:50:00+00:00\n",
      "Add mythenquai from 2017-07-16 12:00:00+00:00 to 2017-09-25 05:00:00+00:00\n",
      "Add mythenquai from 2017-09-25 05:10:00+00:00 to 2017-12-03 16:50:00+00:00\n",
      "Add mythenquai from 2017-12-03 17:00:00+00:00 to 2018-02-11 16:00:00+00:00\n",
      "Add mythenquai from 2018-02-11 16:10:00+00:00 to 2018-04-24 08:10:00+00:00\n",
      "Add mythenquai from 2018-04-24 08:20:00+00:00 to 2018-07-02 18:50:00+00:00\n",
      "Add mythenquai from 2018-07-02 19:00:00+00:00 to 2018-09-10 05:30:00+00:00\n",
      "Add mythenquai from 2018-09-10 05:40:00+00:00 to 2018-11-18 18:50:00+00:00\n",
      "Add mythenquai from 2018-11-18 19:00:00+00:00 to 2018-12-31 23:00:00+00:00\n",
      "\tLoad ./\\data\\messwerte_mythenquai_2019.csv\n",
      "Add mythenquai from 2018-12-31 22:10:00+00:00 to 2019-03-11 08:50:00+00:00\n"
     ]
    },
    {
     "ename": "NonExistentTimeError",
     "evalue": "2019-03-31 02:00:00",
     "output_type": "error",
     "traceback": [
      "\u001b[1;31m---------------------------------------------------------------------------\u001b[0m",
      "\u001b[1;31mNonExistentTimeError\u001b[0m                      Traceback (most recent call last)",
      "\u001b[1;32m<ipython-input-15-e6e84c3aa873>\u001b[0m in \u001b[0;36m<module>\u001b[1;34m\u001b[0m\n\u001b[0;32m     14\u001b[0m \u001b[0mweather\u001b[0m\u001b[1;33m.\u001b[0m\u001b[0mclean_db\u001b[0m\u001b[1;33m(\u001b[0m\u001b[0mconfig\u001b[0m\u001b[1;33m)\u001b[0m\u001b[1;33m\u001b[0m\u001b[1;33m\u001b[0m\u001b[0m\n\u001b[0;32m     15\u001b[0m \u001b[1;31m# import historic data\u001b[0m\u001b[1;33m\u001b[0m\u001b[1;33m\u001b[0m\u001b[1;33m\u001b[0m\u001b[0m\n\u001b[1;32m---> 16\u001b[1;33m \u001b[0mweather\u001b[0m\u001b[1;33m.\u001b[0m\u001b[0mimport_historic_data\u001b[0m\u001b[1;33m(\u001b[0m\u001b[0mconfig\u001b[0m\u001b[1;33m)\u001b[0m\u001b[1;33m\u001b[0m\u001b[1;33m\u001b[0m\u001b[0m\n\u001b[0m\u001b[0;32m     17\u001b[0m \u001b[1;31m# import latest data (delta between last data point in DB and current time)\u001b[0m\u001b[1;33m\u001b[0m\u001b[1;33m\u001b[0m\u001b[1;33m\u001b[0m\u001b[0m\n\u001b[0;32m     18\u001b[0m \u001b[0mweather\u001b[0m\u001b[1;33m.\u001b[0m\u001b[0mimport_latest_data\u001b[0m\u001b[1;33m(\u001b[0m\u001b[0mconfig\u001b[0m\u001b[1;33m,\u001b[0m \u001b[1;32mTrue\u001b[0m\u001b[1;33m)\u001b[0m\u001b[1;33m\u001b[0m\u001b[1;33m\u001b[0m\u001b[0m\n",
      "\u001b[1;32m~\\Anaconda3\\lib\\site-packages\\fhnw_ds_hs2019_weatherstation_api\\data_import.py\u001b[0m in \u001b[0;36mimport_historic_data\u001b[1;34m(config)\u001b[0m\n\u001b[0;32m    227\u001b[0m                     \u001b[0mprint\u001b[0m\u001b[1;33m(\u001b[0m\u001b[1;34m\"\\tLoad \"\u001b[0m\u001b[1;33m+\u001b[0m \u001b[0mfile_name\u001b[0m\u001b[1;33m)\u001b[0m\u001b[1;33m\u001b[0m\u001b[1;33m\u001b[0m\u001b[0m\n\u001b[0;32m    228\u001b[0m                     \u001b[1;32mfor\u001b[0m \u001b[0mchunk\u001b[0m \u001b[1;32min\u001b[0m \u001b[0mpd\u001b[0m\u001b[1;33m.\u001b[0m\u001b[0mread_csv\u001b[0m\u001b[1;33m(\u001b[0m\u001b[0mfile_name\u001b[0m\u001b[1;33m,\u001b[0m \u001b[0mdelimiter\u001b[0m\u001b[1;33m=\u001b[0m\u001b[1;34m','\u001b[0m\u001b[1;33m,\u001b[0m \u001b[0mchunksize\u001b[0m\u001b[1;33m=\u001b[0m\u001b[0mconfig\u001b[0m\u001b[1;33m.\u001b[0m\u001b[0mhistoric_data_chunksize\u001b[0m\u001b[1;33m)\u001b[0m\u001b[1;33m:\u001b[0m\u001b[1;33m\u001b[0m\u001b[1;33m\u001b[0m\u001b[0m\n\u001b[1;32m--> 229\u001b[1;33m                         \u001b[0mchunk\u001b[0m \u001b[1;33m=\u001b[0m \u001b[0m__define_types\u001b[0m\u001b[1;33m(\u001b[0m\u001b[0mchunk\u001b[0m\u001b[1;33m,\u001b[0m \u001b[1;34m'%Y-%m-%d %H:%M:%S'\u001b[0m\u001b[1;33m)\u001b[0m\u001b[1;33m\u001b[0m\u001b[1;33m\u001b[0m\u001b[0m\n\u001b[0m\u001b[0;32m    230\u001b[0m                         \u001b[0mprint\u001b[0m\u001b[1;33m(\u001b[0m\u001b[1;34m\"Add \"\u001b[0m\u001b[1;33m+\u001b[0m \u001b[0mstation\u001b[0m \u001b[1;33m+\u001b[0m\u001b[1;34m\" from \"\u001b[0m\u001b[1;33m+\u001b[0m \u001b[0mstr\u001b[0m\u001b[1;33m(\u001b[0m\u001b[0mchunk\u001b[0m\u001b[1;33m.\u001b[0m\u001b[0mindex\u001b[0m\u001b[1;33m[\u001b[0m\u001b[1;36m0\u001b[0m\u001b[1;33m]\u001b[0m\u001b[1;33m)\u001b[0m \u001b[1;33m+\u001b[0m\u001b[1;34m\" to \"\u001b[0m\u001b[1;33m+\u001b[0m \u001b[0mstr\u001b[0m\u001b[1;33m(\u001b[0m\u001b[0mchunk\u001b[0m\u001b[1;33m.\u001b[0m\u001b[0mindex\u001b[0m\u001b[1;33m[\u001b[0m\u001b[1;33m-\u001b[0m\u001b[1;36m1\u001b[0m\u001b[1;33m]\u001b[0m\u001b[1;33m)\u001b[0m\u001b[1;33m)\u001b[0m\u001b[1;33m\u001b[0m\u001b[1;33m\u001b[0m\u001b[0m\n\u001b[0;32m    231\u001b[0m                         \u001b[0m__add_data_to_db\u001b[0m\u001b[1;33m(\u001b[0m\u001b[0mconfig\u001b[0m\u001b[1;33m,\u001b[0m \u001b[0mchunk\u001b[0m\u001b[1;33m,\u001b[0m \u001b[0mstation\u001b[0m\u001b[1;33m)\u001b[0m\u001b[1;33m\u001b[0m\u001b[1;33m\u001b[0m\u001b[0m\n",
      "\u001b[1;32m~\\Anaconda3\\lib\\site-packages\\fhnw_ds_hs2019_weatherstation_api\\data_import.py\u001b[0m in \u001b[0;36m__define_types\u001b[1;34m(data, date_format)\u001b[0m\n\u001b[0;32m    119\u001b[0m     \u001b[0mdata\u001b[0m\u001b[1;33m[\u001b[0m\u001b[1;34m'timestamp_cet'\u001b[0m\u001b[1;33m]\u001b[0m \u001b[1;33m=\u001b[0m \u001b[0mpd\u001b[0m\u001b[1;33m.\u001b[0m\u001b[0mto_datetime\u001b[0m\u001b[1;33m(\u001b[0m\u001b[0mdata\u001b[0m\u001b[1;33m[\u001b[0m\u001b[1;34m'timestamp_cet'\u001b[0m\u001b[1;33m]\u001b[0m\u001b[1;33m,\u001b[0m \u001b[0mformat\u001b[0m\u001b[1;33m=\u001b[0m\u001b[0mdate_format\u001b[0m\u001b[1;33m)\u001b[0m\u001b[1;33m\u001b[0m\u001b[1;33m\u001b[0m\u001b[0m\n\u001b[0;32m    120\u001b[0m     \u001b[1;32mif\u001b[0m \u001b[1;32mnot\u001b[0m \u001b[0mdata\u001b[0m\u001b[1;33m.\u001b[0m\u001b[0mempty\u001b[0m \u001b[1;32mand\u001b[0m \u001b[0mdata\u001b[0m\u001b[1;33m[\u001b[0m\u001b[1;34m'timestamp_cet'\u001b[0m\u001b[1;33m]\u001b[0m\u001b[1;33m.\u001b[0m\u001b[0miloc\u001b[0m\u001b[1;33m[\u001b[0m\u001b[1;36m0\u001b[0m\u001b[1;33m]\u001b[0m\u001b[1;33m.\u001b[0m\u001b[0mtzinfo\u001b[0m \u001b[1;32mis\u001b[0m \u001b[1;32mNone\u001b[0m\u001b[1;33m:\u001b[0m\u001b[1;33m\u001b[0m\u001b[1;33m\u001b[0m\u001b[0m\n\u001b[1;32m--> 121\u001b[1;33m         \u001b[0mdata\u001b[0m\u001b[1;33m[\u001b[0m\u001b[1;34m'timestamp_cet'\u001b[0m\u001b[1;33m]\u001b[0m \u001b[1;33m=\u001b[0m \u001b[0mdata\u001b[0m\u001b[1;33m[\u001b[0m\u001b[1;34m'timestamp_cet'\u001b[0m\u001b[1;33m]\u001b[0m\u001b[1;33m.\u001b[0m\u001b[0mdt\u001b[0m\u001b[1;33m.\u001b[0m\u001b[0mtz_localize\u001b[0m\u001b[1;33m(\u001b[0m\u001b[1;34m'Europe/Zurich'\u001b[0m\u001b[1;33m,\u001b[0m \u001b[0mambiguous\u001b[0m\u001b[1;33m=\u001b[0m\u001b[1;32mTrue\u001b[0m\u001b[1;33m)\u001b[0m\u001b[1;33m.\u001b[0m\u001b[0mdt\u001b[0m\u001b[1;33m.\u001b[0m\u001b[0mtz_convert\u001b[0m\u001b[1;33m(\u001b[0m\u001b[1;34m'UTC'\u001b[0m\u001b[1;33m)\u001b[0m\u001b[1;33m\u001b[0m\u001b[1;33m\u001b[0m\u001b[0m\n\u001b[0m\u001b[0;32m    122\u001b[0m     \u001b[0mdata\u001b[0m\u001b[1;33m.\u001b[0m\u001b[0mset_index\u001b[0m\u001b[1;33m(\u001b[0m\u001b[1;34m'timestamp_cet'\u001b[0m\u001b[1;33m,\u001b[0m \u001b[0minplace\u001b[0m\u001b[1;33m=\u001b[0m\u001b[1;32mTrue\u001b[0m\u001b[1;33m)\u001b[0m\u001b[1;33m\u001b[0m\u001b[1;33m\u001b[0m\u001b[0m\n\u001b[0;32m    123\u001b[0m \u001b[1;33m\u001b[0m\u001b[0m\n",
      "\u001b[1;32m~\\Anaconda3\\lib\\site-packages\\pandas\\core\\accessor.py\u001b[0m in \u001b[0;36mf\u001b[1;34m(self, *args, **kwargs)\u001b[0m\n\u001b[0;32m     87\u001b[0m \u001b[1;33m\u001b[0m\u001b[0m\n\u001b[0;32m     88\u001b[0m             \u001b[1;32mdef\u001b[0m \u001b[0mf\u001b[0m\u001b[1;33m(\u001b[0m\u001b[0mself\u001b[0m\u001b[1;33m,\u001b[0m \u001b[1;33m*\u001b[0m\u001b[0margs\u001b[0m\u001b[1;33m,\u001b[0m \u001b[1;33m**\u001b[0m\u001b[0mkwargs\u001b[0m\u001b[1;33m)\u001b[0m\u001b[1;33m:\u001b[0m\u001b[1;33m\u001b[0m\u001b[1;33m\u001b[0m\u001b[0m\n\u001b[1;32m---> 89\u001b[1;33m                 \u001b[1;32mreturn\u001b[0m \u001b[0mself\u001b[0m\u001b[1;33m.\u001b[0m\u001b[0m_delegate_method\u001b[0m\u001b[1;33m(\u001b[0m\u001b[0mname\u001b[0m\u001b[1;33m,\u001b[0m \u001b[1;33m*\u001b[0m\u001b[0margs\u001b[0m\u001b[1;33m,\u001b[0m \u001b[1;33m**\u001b[0m\u001b[0mkwargs\u001b[0m\u001b[1;33m)\u001b[0m\u001b[1;33m\u001b[0m\u001b[1;33m\u001b[0m\u001b[0m\n\u001b[0m\u001b[0;32m     90\u001b[0m \u001b[1;33m\u001b[0m\u001b[0m\n\u001b[0;32m     91\u001b[0m             \u001b[0mf\u001b[0m\u001b[1;33m.\u001b[0m\u001b[0m__name__\u001b[0m \u001b[1;33m=\u001b[0m \u001b[0mname\u001b[0m\u001b[1;33m\u001b[0m\u001b[1;33m\u001b[0m\u001b[0m\n",
      "\u001b[1;32m~\\Anaconda3\\lib\\site-packages\\pandas\\core\\indexes\\accessors.py\u001b[0m in \u001b[0;36m_delegate_method\u001b[1;34m(self, name, *args, **kwargs)\u001b[0m\n\u001b[0;32m     97\u001b[0m \u001b[1;33m\u001b[0m\u001b[0m\n\u001b[0;32m     98\u001b[0m         \u001b[0mmethod\u001b[0m \u001b[1;33m=\u001b[0m \u001b[0mgetattr\u001b[0m\u001b[1;33m(\u001b[0m\u001b[0mvalues\u001b[0m\u001b[1;33m,\u001b[0m \u001b[0mname\u001b[0m\u001b[1;33m)\u001b[0m\u001b[1;33m\u001b[0m\u001b[1;33m\u001b[0m\u001b[0m\n\u001b[1;32m---> 99\u001b[1;33m         \u001b[0mresult\u001b[0m \u001b[1;33m=\u001b[0m \u001b[0mmethod\u001b[0m\u001b[1;33m(\u001b[0m\u001b[1;33m*\u001b[0m\u001b[0margs\u001b[0m\u001b[1;33m,\u001b[0m \u001b[1;33m**\u001b[0m\u001b[0mkwargs\u001b[0m\u001b[1;33m)\u001b[0m\u001b[1;33m\u001b[0m\u001b[1;33m\u001b[0m\u001b[0m\n\u001b[0m\u001b[0;32m    100\u001b[0m \u001b[1;33m\u001b[0m\u001b[0m\n\u001b[0;32m    101\u001b[0m         \u001b[1;32mif\u001b[0m \u001b[1;32mnot\u001b[0m \u001b[0mis_list_like\u001b[0m\u001b[1;33m(\u001b[0m\u001b[0mresult\u001b[0m\u001b[1;33m)\u001b[0m\u001b[1;33m:\u001b[0m\u001b[1;33m\u001b[0m\u001b[1;33m\u001b[0m\u001b[0m\n",
      "\u001b[1;32m~\\Anaconda3\\lib\\site-packages\\pandas\\core\\indexes\\datetimes.py\u001b[0m in \u001b[0;36mtz_localize\u001b[1;34m(self, tz, ambiguous, errors)\u001b[0m\n\u001b[0;32m   2384\u001b[0m             new_dates = conversion.tz_localize_to_utc(self.asi8, tz,\n\u001b[0;32m   2385\u001b[0m                                                       \u001b[1;33m,\u001b[0m\u001b[1;33m\u001b[0m\u001b[1;33m\u001b[0m\u001b[0m\n\u001b[1;32m-> 2386\u001b[1;33m                                                       errors=errors)\n\u001b[0m\u001b[0;32m   2387\u001b[0m         \u001b[0mnew_dates\u001b[0m \u001b[1;33m=\u001b[0m \u001b[0mnew_dates\u001b[0m\u001b[1;33m.\u001b[0m\u001b[0mview\u001b[0m\u001b[1;33m(\u001b[0m\u001b[0m_NS_DTYPE\u001b[0m\u001b[1;33m)\u001b[0m\u001b[1;33m\u001b[0m\u001b[1;33m\u001b[0m\u001b[0m\n\u001b[0;32m   2388\u001b[0m         \u001b[1;32mreturn\u001b[0m \u001b[0mself\u001b[0m\u001b[1;33m.\u001b[0m\u001b[0m_shallow_copy\u001b[0m\u001b[1;33m(\u001b[0m\u001b[0mnew_dates\u001b[0m\u001b[1;33m,\u001b[0m \u001b[0mtz\u001b[0m\u001b[1;33m=\u001b[0m\u001b[0mtz\u001b[0m\u001b[1;33m)\u001b[0m\u001b[1;33m\u001b[0m\u001b[1;33m\u001b[0m\u001b[0m\n",
      "\u001b[1;32mpandas\\_libs\\tslibs\\conversion.pyx\u001b[0m in \u001b[0;36mpandas._libs.tslibs.conversion.tz_localize_to_utc\u001b[1;34m()\u001b[0m\n",
      "\u001b[1;31mNonExistentTimeError\u001b[0m: 2019-03-31 02:00:00"
     ]
    }
   ],
   "source": [
    "# DB and CSV config\n",
    "config = weather.Config()\n",
    "# define CSV path\n",
    "config.historic_data_folder='./'+os.sep+'data'\n",
    "# set batch size for DB inserts (decrease for raspberry pi)\n",
    "config.historic_data_chunksize=10000\n",
    "# define DB host\n",
    "config.db_host='localhost'\n",
    "\n",
    "# connect to DB\n",
    "weather.connect_db(config)\n",
    "\n",
    "# clean DB\n",
    "weather.clean_db(config)\n",
    "# import historic data\n",
    "weather.import_historic_data(config)\n",
    "# import latest data (delta between last data point in DB and current time)\n",
    "weather.import_latest_data(config, True)"
   ]
  },
  {
   "cell_type": "markdown",
   "metadata": {},
   "source": [
    "Create Pandas Dataframes (Mythenquai & Tiefenbrunnen)"
   ]
  },
  {
   "cell_type": "code",
   "execution_count": null,
   "metadata": {},
   "outputs": [],
   "source": [
    "client = InfluxDBClient(host = DB_HOST, port = DB_PORT)\n",
    "\n",
    "db_name = 'meteorology'\n",
    "protocol = 'line'\n",
    "\n",
    "print(\"Created Mythenquai DataFrame\")\n",
    "df_1 = pd.read_csv('./data/messwerte_mythenquai_2019.csv')\n",
    "\n",
    "print(\"Created Tiefenbrunnen DataFrame\")\n",
    "df_2 = pd.read_csv('./data/messwerte_tiefenbrunnen_2019.csv')"
   ]
  },
  {
   "cell_type": "code",
   "execution_count": null,
   "metadata": {},
   "outputs": [],
   "source": [
    "df_1.info()"
   ]
  },
  {
   "cell_type": "code",
   "execution_count": null,
   "metadata": {},
   "outputs": [],
   "source": [
    "    df_2.info()"
   ]
  }
 ],
 "metadata": {
  "kernelspec": {
   "display_name": "Python 3",
   "language": "python",
   "name": "python3"
  },
  "language_info": {
   "codemirror_mode": {
    "name": "ipython",
    "version": 3
   },
   "file_extension": ".py",
   "mimetype": "text/x-python",
   "name": "python",
   "nbconvert_exporter": "python",
   "pygments_lexer": "ipython3",
   "version": "3.7.3"
  }
 },
 "nbformat": 4,
 "nbformat_minor": 2
}
