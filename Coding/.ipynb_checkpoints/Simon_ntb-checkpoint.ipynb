{
 "cells": [
  {
   "cell_type": "markdown",
   "metadata": {},
   "source": [
    "## Explorative Datenanalyse und Wahrscheinlichkeitsrechnen"
   ]
  },
  {
   "cell_type": "markdown",
   "metadata": {},
   "source": [
    "#### Import Packages"
   ]
  },
  {
   "cell_type": "code",
   "execution_count": 2,
   "metadata": {},
   "outputs": [],
   "source": [
    "import config as cfg\n",
    "import Import_Data_API as ImpData\n",
    "\n",
    "import pandas as pd\n",
    "from influxdb import DataFrameClient, InfluxDBClient\n",
    "import pytz\n",
    "import seaborn as sns\n",
    "import datetime\n",
    "import matplotlib.pyplot as plt\n",
    "import numpy as np\n",
    "from fhnw_ds_hs2019_weatherstation_api import data_import as weather"
   ]
  },
  {
   "cell_type": "markdown",
   "metadata": {},
   "source": [
    "#### Formulas"
   ]
  },
  {
   "cell_type": "code",
   "execution_count": 10,
   "metadata": {},
   "outputs": [],
   "source": [
    "def rowindex_as_col(df):\n",
    "    \"\"\"add row index(time) to new column. df = dataframe, name_col = new column name\"\"\"\n",
    "    df.index.name = \"Time\"\n",
    "    df = df.reset_index(inplace=False)\n",
    "    df = pd.DataFrame(df)\n",
    "    return df"
   ]
  },
  {
   "cell_type": "code",
   "execution_count": null,
   "metadata": {},
   "outputs": [],
   "source": [
    "path_2_file_mythenquai = \"./influxdb-1.7.8-1/data/messwerte_mythenquai_2007-2018.csv\"\n",
    "df_prediction = pd.read_csv(path_2_file_mythenquai, index_col=0)\n",
    "\n",
    "df1.head(2)"
   ]
  },
  {
   "cell_type": "code",
   "execution_count": null,
   "metadata": {},
   "outputs": [],
   "source": [
    "path_2_file_tiefenbrunnen = \"./influxdb-1.7.8-1/data/messwerte_tiefenbrunnen_2007-2018.csv\"\n",
    "df2 = pd.read_csv(path_2_file_tiefenbrunnen, index_col= 0)\n",
    "\n",
    "df2.head(2)"
   ]
  },
  {
   "cell_type": "markdown",
   "metadata": {},
   "source": [
    "#### Sind Daten von Mythenquai und Tiefenbrunnen unterschiedlich?"
   ]
  },
  {
   "cell_type": "code",
   "execution_count": 41,
   "metadata": {},
   "outputs": [],
   "source": [
    "df1, df2 = ImpData.select_timedelta(0,7)"
   ]
  },
  {
   "cell_type": "markdown",
   "metadata": {},
   "source": [
    "Angleichen der beiden Dataframes, da nicht alle Spalten im anderen Dataframe vorhanden sind."
   ]
  },
  {
   "cell_type": "code",
   "execution_count": 42,
   "metadata": {},
   "outputs": [
    {
     "data": {
      "text/plain": [
       "1001"
      ]
     },
     "execution_count": 42,
     "metadata": {},
     "output_type": "execute_result"
    }
   ],
   "source": [
    "df1.columns\n",
    "df1 = df1.drop([\"global_radiation\", \"precipitation\"], axis = 1)"
   ]
  },
  {
   "cell_type": "code",
   "execution_count": 39,
   "metadata": {
    "scrolled": true
   },
   "outputs": [
    {
     "data": {
      "text/plain": [
       "1000"
      ]
     },
     "execution_count": 39,
     "metadata": {},
     "output_type": "execute_result"
    }
   ],
   "source": [
    "df2.columns"
   ]
  },
  {
   "cell_type": "markdown",
   "metadata": {},
   "source": [
    "Prüfen ob identische Werte vorhanden sind vom ersten zum zweiten Dataframe"
   ]
  },
  {
   "cell_type": "code",
   "execution_count": 37,
   "metadata": {},
   "outputs": [
    {
     "data": {
      "text/plain": [
       "False"
      ]
     },
     "execution_count": 37,
     "metadata": {},
     "output_type": "execute_result"
    }
   ],
   "source": [
    "df1.equals(df2)"
   ]
  },
  {
   "cell_type": "markdown",
   "metadata": {},
   "source": [
    "Prüfen welche Spalten genau miteinander korrelieren. Falls die Korrelation gegen den Wert 1 tendiert umso höher ist dann die Korrelation zwischen den beiden Spalten von den Dataframes. Es ist anzunehmen, dass alle Werte eine hohe Korrelation haben, das sie ungefähr aus dem gleichen Umgebung stammen und dementsprechend das Klima und das Wetter sich nicht ändern.\n",
    "\n",
    "Wie man sehen kann korrelieren Lufttemperatur, Luftdruck, Taupunkt, Luftfeuchte, Wassertemperatur und Windchill stark. Der Rest korreliert zwar doch eher schwach. Beim Wind scheint es wohl Differenzen zu geben. Somit ist es sicherlich sinnvoll den Wind auf dem Wettermonitor für beide Stationen einzeln anzuzeigen."
   ]
  },
  {
   "cell_type": "code",
   "execution_count": 38,
   "metadata": {},
   "outputs": [
    {
     "data": {
      "text/plain": [
       "air_temperature            0.979445\n",
       "barometric_pressure_qfe    0.999523\n",
       "dew_point                  0.967958\n",
       "humidity                   0.925335\n",
       "water_temperature          0.753521\n",
       "wind_direction             0.175073\n",
       "wind_force_avg_10min       0.420030\n",
       "wind_gust_max_10min        0.734132\n",
       "wind_speed_avg_10min       0.484645\n",
       "windchill                  0.858167\n",
       "dtype: float64"
      ]
     },
     "execution_count": 38,
     "metadata": {},
     "output_type": "execute_result"
    }
   ],
   "source": [
    "df1.corrwith(df2)"
   ]
  },
  {
   "cell_type": "markdown",
   "metadata": {},
   "source": [
    "### Exploratory Data Analysis"
   ]
  },
  {
   "cell_type": "markdown",
   "metadata": {},
   "source": [
    "Beim Wettermonitor ist interessant die Abhängigkeiten zwischen den einzelnen Werten sehen zu können. Ich werde nun alle Werte mit allen Vergleichen."
   ]
  },
  {
   "cell_type": "code",
   "execution_count": 7,
   "metadata": {
    "scrolled": true
   },
   "outputs": [],
   "source": [
    "mythenquai_, tiefenbrunnen_ = ImpData.select_timedelta(0, 100)"
   ]
  },
  {
   "cell_type": "markdown",
   "metadata": {},
   "source": [
    "Aesthetische Einstellungen:"
   ]
  },
  {
   "cell_type": "code",
   "execution_count": 10,
   "metadata": {},
   "outputs": [],
   "source": [
    "sns.set_style(\"darkgrid\")\n",
    "sns.set_palette(\"Paired\")"
   ]
  },
  {
   "cell_type": "markdown",
   "metadata": {},
   "source": [
    "Um einen Gesamtüberblick über den Dataframe zu haben, eignet sich die eingebaute Pandas Funktion \"Describe\" sehr gut.\n",
    "\n",
    "Man sieht, dass die oben festgelegten Werte bezüglich ihren Quantilen, Durchschnitten und auch Maximal und Minimalwerten sehr ähnlich aussehen. Bei den anderen ist die Abweichung um einiges grösser."
   ]
  },
  {
   "cell_type": "code",
   "execution_count": 11,
   "metadata": {},
   "outputs": [
    {
     "data": {
      "text/html": [
       "<div>\n",
       "<style scoped>\n",
       "    .dataframe tbody tr th:only-of-type {\n",
       "        vertical-align: middle;\n",
       "    }\n",
       "\n",
       "    .dataframe tbody tr th {\n",
       "        vertical-align: top;\n",
       "    }\n",
       "\n",
       "    .dataframe thead th {\n",
       "        text-align: right;\n",
       "    }\n",
       "</style>\n",
       "<table border=\"1\" class=\"dataframe\">\n",
       "  <thead>\n",
       "    <tr style=\"text-align: right;\">\n",
       "      <th></th>\n",
       "      <th>air_temperature</th>\n",
       "      <th>barometric_pressure_qfe</th>\n",
       "      <th>dew_point</th>\n",
       "      <th>humidity</th>\n",
       "      <th>water_temperature</th>\n",
       "      <th>wind_direction</th>\n",
       "      <th>wind_force_avg_10min</th>\n",
       "      <th>wind_gust_max_10min</th>\n",
       "      <th>wind_speed_avg_10min</th>\n",
       "      <th>windchill</th>\n",
       "    </tr>\n",
       "  </thead>\n",
       "  <tbody>\n",
       "    <tr>\n",
       "      <th>count</th>\n",
       "      <td>14378.0</td>\n",
       "      <td>14378.0</td>\n",
       "      <td>14378.0</td>\n",
       "      <td>14378.0</td>\n",
       "      <td>14378.0</td>\n",
       "      <td>14378.0</td>\n",
       "      <td>14378.0</td>\n",
       "      <td>14378.0</td>\n",
       "      <td>14378.0</td>\n",
       "      <td>14378.0</td>\n",
       "    </tr>\n",
       "    <tr>\n",
       "      <th>mean</th>\n",
       "      <td>8.1</td>\n",
       "      <td>966.3</td>\n",
       "      <td>5.5</td>\n",
       "      <td>83.9</td>\n",
       "      <td>11.7</td>\n",
       "      <td>129.7</td>\n",
       "      <td>0.9</td>\n",
       "      <td>2.6</td>\n",
       "      <td>1.1</td>\n",
       "      <td>7.5</td>\n",
       "    </tr>\n",
       "    <tr>\n",
       "      <th>std</th>\n",
       "      <td>4.8</td>\n",
       "      <td>10.0</td>\n",
       "      <td>4.3</td>\n",
       "      <td>9.8</td>\n",
       "      <td>3.9</td>\n",
       "      <td>114.7</td>\n",
       "      <td>1.1</td>\n",
       "      <td>3.0</td>\n",
       "      <td>1.6</td>\n",
       "      <td>4.8</td>\n",
       "    </tr>\n",
       "    <tr>\n",
       "      <th>min</th>\n",
       "      <td>-1.7</td>\n",
       "      <td>934.2</td>\n",
       "      <td>-4.6</td>\n",
       "      <td>39.0</td>\n",
       "      <td>6.7</td>\n",
       "      <td>0.0</td>\n",
       "      <td>0.0</td>\n",
       "      <td>0.0</td>\n",
       "      <td>0.0</td>\n",
       "      <td>-4.0</td>\n",
       "    </tr>\n",
       "    <tr>\n",
       "      <th>25%</th>\n",
       "      <td>4.7</td>\n",
       "      <td>960.2</td>\n",
       "      <td>2.2</td>\n",
       "      <td>78.0</td>\n",
       "      <td>8.0</td>\n",
       "      <td>12.0</td>\n",
       "      <td>0.0</td>\n",
       "      <td>0.1</td>\n",
       "      <td>0.0</td>\n",
       "      <td>3.9</td>\n",
       "    </tr>\n",
       "    <tr>\n",
       "      <th>50%</th>\n",
       "      <td>7.6</td>\n",
       "      <td>967.0</td>\n",
       "      <td>5.0</td>\n",
       "      <td>85.0</td>\n",
       "      <td>11.1</td>\n",
       "      <td>116.0</td>\n",
       "      <td>1.0</td>\n",
       "      <td>1.6</td>\n",
       "      <td>0.4</td>\n",
       "      <td>6.7</td>\n",
       "    </tr>\n",
       "    <tr>\n",
       "      <th>75%</th>\n",
       "      <td>11.8</td>\n",
       "      <td>972.7</td>\n",
       "      <td>8.8</td>\n",
       "      <td>92.0</td>\n",
       "      <td>15.3</td>\n",
       "      <td>198.0</td>\n",
       "      <td>1.0</td>\n",
       "      <td>3.5</td>\n",
       "      <td>1.5</td>\n",
       "      <td>11.1</td>\n",
       "    </tr>\n",
       "    <tr>\n",
       "      <th>max</th>\n",
       "      <td>23.2</td>\n",
       "      <td>988.6</td>\n",
       "      <td>15.5</td>\n",
       "      <td>100.0</td>\n",
       "      <td>70.0</td>\n",
       "      <td>360.0</td>\n",
       "      <td>5.0</td>\n",
       "      <td>24.0</td>\n",
       "      <td>10.4</td>\n",
       "      <td>21.7</td>\n",
       "    </tr>\n",
       "  </tbody>\n",
       "</table>\n",
       "</div>"
      ],
      "text/plain": [
       "       air_temperature  barometric_pressure_qfe  dew_point  humidity  \\\n",
       "count          14378.0                  14378.0    14378.0   14378.0   \n",
       "mean               8.1                    966.3        5.5      83.9   \n",
       "std                4.8                     10.0        4.3       9.8   \n",
       "min               -1.7                    934.2       -4.6      39.0   \n",
       "25%                4.7                    960.2        2.2      78.0   \n",
       "50%                7.6                    967.0        5.0      85.0   \n",
       "75%               11.8                    972.7        8.8      92.0   \n",
       "max               23.2                    988.6       15.5     100.0   \n",
       "\n",
       "       water_temperature  wind_direction  wind_force_avg_10min  \\\n",
       "count            14378.0         14378.0               14378.0   \n",
       "mean                11.7           129.7                   0.9   \n",
       "std                  3.9           114.7                   1.1   \n",
       "min                  6.7             0.0                   0.0   \n",
       "25%                  8.0            12.0                   0.0   \n",
       "50%                 11.1           116.0                   1.0   \n",
       "75%                 15.3           198.0                   1.0   \n",
       "max                 70.0           360.0                   5.0   \n",
       "\n",
       "       wind_gust_max_10min  wind_speed_avg_10min  windchill  \n",
       "count              14378.0               14378.0    14378.0  \n",
       "mean                   2.6                   1.1        7.5  \n",
       "std                    3.0                   1.6        4.8  \n",
       "min                    0.0                   0.0       -4.0  \n",
       "25%                    0.1                   0.0        3.9  \n",
       "50%                    1.6                   0.4        6.7  \n",
       "75%                    3.5                   1.5       11.1  \n",
       "max                   24.0                  10.4       21.7  "
      ]
     },
     "execution_count": 11,
     "metadata": {},
     "output_type": "execute_result"
    }
   ],
   "source": [
    "round(tiefenbrunnen_.describe(),1)"
   ]
  },
  {
   "cell_type": "code",
   "execution_count": 12,
   "metadata": {
    "scrolled": true
   },
   "outputs": [
    {
     "data": {
      "text/html": [
       "<div>\n",
       "<style scoped>\n",
       "    .dataframe tbody tr th:only-of-type {\n",
       "        vertical-align: middle;\n",
       "    }\n",
       "\n",
       "    .dataframe tbody tr th {\n",
       "        vertical-align: top;\n",
       "    }\n",
       "\n",
       "    .dataframe thead th {\n",
       "        text-align: right;\n",
       "    }\n",
       "</style>\n",
       "<table border=\"1\" class=\"dataframe\">\n",
       "  <thead>\n",
       "    <tr style=\"text-align: right;\">\n",
       "      <th></th>\n",
       "      <th>air_temperature</th>\n",
       "      <th>barometric_pressure_qfe</th>\n",
       "      <th>dew_point</th>\n",
       "      <th>global_radiation</th>\n",
       "      <th>humidity</th>\n",
       "      <th>precipitation</th>\n",
       "      <th>water_temperature</th>\n",
       "      <th>wind_direction</th>\n",
       "      <th>wind_force_avg_10min</th>\n",
       "      <th>wind_gust_max_10min</th>\n",
       "      <th>wind_speed_avg_10min</th>\n",
       "      <th>windchill</th>\n",
       "    </tr>\n",
       "  </thead>\n",
       "  <tbody>\n",
       "    <tr>\n",
       "      <th>count</th>\n",
       "      <td>14340.0</td>\n",
       "      <td>14340.0</td>\n",
       "      <td>14340.0</td>\n",
       "      <td>14340.0</td>\n",
       "      <td>14340.0</td>\n",
       "      <td>14340.0</td>\n",
       "      <td>14340.0</td>\n",
       "      <td>14340.0</td>\n",
       "      <td>14340.0</td>\n",
       "      <td>14340.0</td>\n",
       "      <td>14340.0</td>\n",
       "      <td>14340.0</td>\n",
       "    </tr>\n",
       "    <tr>\n",
       "      <th>mean</th>\n",
       "      <td>7.9</td>\n",
       "      <td>966.2</td>\n",
       "      <td>5.4</td>\n",
       "      <td>53.8</td>\n",
       "      <td>84.6</td>\n",
       "      <td>0.0</td>\n",
       "      <td>11.6</td>\n",
       "      <td>184.5</td>\n",
       "      <td>1.8</td>\n",
       "      <td>4.0</td>\n",
       "      <td>2.1</td>\n",
       "      <td>6.6</td>\n",
       "    </tr>\n",
       "    <tr>\n",
       "      <th>std</th>\n",
       "      <td>4.9</td>\n",
       "      <td>9.9</td>\n",
       "      <td>4.4</td>\n",
       "      <td>111.7</td>\n",
       "      <td>10.2</td>\n",
       "      <td>0.1</td>\n",
       "      <td>3.7</td>\n",
       "      <td>111.1</td>\n",
       "      <td>0.8</td>\n",
       "      <td>2.6</td>\n",
       "      <td>1.2</td>\n",
       "      <td>5.2</td>\n",
       "    </tr>\n",
       "    <tr>\n",
       "      <th>min</th>\n",
       "      <td>-1.6</td>\n",
       "      <td>934.1</td>\n",
       "      <td>-5.6</td>\n",
       "      <td>0.0</td>\n",
       "      <td>40.0</td>\n",
       "      <td>0.0</td>\n",
       "      <td>6.1</td>\n",
       "      <td>0.0</td>\n",
       "      <td>0.0</td>\n",
       "      <td>0.0</td>\n",
       "      <td>0.0</td>\n",
       "      <td>-5.8</td>\n",
       "    </tr>\n",
       "    <tr>\n",
       "      <th>25%</th>\n",
       "      <td>4.5</td>\n",
       "      <td>960.1</td>\n",
       "      <td>2.1</td>\n",
       "      <td>0.0</td>\n",
       "      <td>78.0</td>\n",
       "      <td>0.0</td>\n",
       "      <td>7.9</td>\n",
       "      <td>86.0</td>\n",
       "      <td>1.0</td>\n",
       "      <td>2.3</td>\n",
       "      <td>1.3</td>\n",
       "      <td>2.7</td>\n",
       "    </tr>\n",
       "    <tr>\n",
       "      <th>50%</th>\n",
       "      <td>7.4</td>\n",
       "      <td>967.0</td>\n",
       "      <td>4.9</td>\n",
       "      <td>0.0</td>\n",
       "      <td>87.0</td>\n",
       "      <td>0.0</td>\n",
       "      <td>10.9</td>\n",
       "      <td>169.0</td>\n",
       "      <td>2.0</td>\n",
       "      <td>3.3</td>\n",
       "      <td>1.9</td>\n",
       "      <td>6.0</td>\n",
       "    </tr>\n",
       "    <tr>\n",
       "      <th>75%</th>\n",
       "      <td>11.5</td>\n",
       "      <td>972.5</td>\n",
       "      <td>8.8</td>\n",
       "      <td>55.0</td>\n",
       "      <td>93.0</td>\n",
       "      <td>0.0</td>\n",
       "      <td>15.4</td>\n",
       "      <td>298.0</td>\n",
       "      <td>2.0</td>\n",
       "      <td>5.0</td>\n",
       "      <td>2.7</td>\n",
       "      <td>10.4</td>\n",
       "    </tr>\n",
       "    <tr>\n",
       "      <th>max</th>\n",
       "      <td>23.4</td>\n",
       "      <td>988.5</td>\n",
       "      <td>16.0</td>\n",
       "      <td>715.0</td>\n",
       "      <td>100.0</td>\n",
       "      <td>2.0</td>\n",
       "      <td>18.7</td>\n",
       "      <td>360.0</td>\n",
       "      <td>5.0</td>\n",
       "      <td>21.8</td>\n",
       "      <td>8.6</td>\n",
       "      <td>22.2</td>\n",
       "    </tr>\n",
       "  </tbody>\n",
       "</table>\n",
       "</div>"
      ],
      "text/plain": [
       "       air_temperature  barometric_pressure_qfe  dew_point  global_radiation  \\\n",
       "count          14340.0                  14340.0    14340.0           14340.0   \n",
       "mean               7.9                    966.2        5.4              53.8   \n",
       "std                4.9                      9.9        4.4             111.7   \n",
       "min               -1.6                    934.1       -5.6               0.0   \n",
       "25%                4.5                    960.1        2.1               0.0   \n",
       "50%                7.4                    967.0        4.9               0.0   \n",
       "75%               11.5                    972.5        8.8              55.0   \n",
       "max               23.4                    988.5       16.0             715.0   \n",
       "\n",
       "       humidity  precipitation  water_temperature  wind_direction  \\\n",
       "count   14340.0        14340.0            14340.0         14340.0   \n",
       "mean       84.6            0.0               11.6           184.5   \n",
       "std        10.2            0.1                3.7           111.1   \n",
       "min        40.0            0.0                6.1             0.0   \n",
       "25%        78.0            0.0                7.9            86.0   \n",
       "50%        87.0            0.0               10.9           169.0   \n",
       "75%        93.0            0.0               15.4           298.0   \n",
       "max       100.0            2.0               18.7           360.0   \n",
       "\n",
       "       wind_force_avg_10min  wind_gust_max_10min  wind_speed_avg_10min  \\\n",
       "count               14340.0              14340.0               14340.0   \n",
       "mean                    1.8                  4.0                   2.1   \n",
       "std                     0.8                  2.6                   1.2   \n",
       "min                     0.0                  0.0                   0.0   \n",
       "25%                     1.0                  2.3                   1.3   \n",
       "50%                     2.0                  3.3                   1.9   \n",
       "75%                     2.0                  5.0                   2.7   \n",
       "max                     5.0                 21.8                   8.6   \n",
       "\n",
       "       windchill  \n",
       "count    14340.0  \n",
       "mean         6.6  \n",
       "std          5.2  \n",
       "min         -5.8  \n",
       "25%          2.7  \n",
       "50%          6.0  \n",
       "75%         10.4  \n",
       "max         22.2  "
      ]
     },
     "execution_count": 12,
     "metadata": {},
     "output_type": "execute_result"
    }
   ],
   "source": [
    "round(mythenquai_.describe(),1)"
   ]
  },
  {
   "cell_type": "markdown",
   "metadata": {},
   "source": [
    "Korrelationen Bereich Temperatur und Feuchte:"
   ]
  },
  {
   "cell_type": "code",
   "execution_count": 13,
   "metadata": {
    "scrolled": true
   },
   "outputs": [
    {
     "data": {
      "text/plain": [
       "<seaborn.axisgrid.PairGrid at 0x25dd48d0>"
      ]
     },
     "execution_count": 13,
     "metadata": {},
     "output_type": "execute_result"
    },
    {
     "data": {
      "image/png": "[encoded data removed]",
      "text/plain": [
       "<Figure size 720x720 with 20 Axes>"
      ]
     },
     "metadata": {},
     "output_type": "display_data"
    }
   ],
   "source": [
    "tiefenbrunnen_adapt_temp = tiefenbrunnen_.drop( columns = [\"wind_direction\",\"wind_force_avg_10min\",\n",
    "                                                             \"wind_gust_max_10min\",\"wind_speed_avg_10min\",\n",
    "                                                             \"windchill\", \"barometric_pressure_qfe\"])\n",
    "tiefenbrunnen_adapt_temp = rowindex_as_col(tiefenbrunnen_adapt_temp)\n",
    "tiefenbrunnen_adapt_temp.head()\n",
    "sns.pairplot(tiefenbrunnen_adapt_temp, kind = \"reg\", diag_kind = \"kde\")"
   ]
  },
  {
   "cell_type": "markdown",
   "metadata": {},
   "source": [
    "#### Auffälligkeiten:\n",
    "- Starke Negative Korrelation zwischen Luftfeuchte und Temperatur\n",
    "- Eigentlich sollte der Taupunkt bei 100% relativer Luftfeuchte sein. Erklärung?\n",
    "- Es bestehen positive Korrelationen zwischen Lufttemperatur, Wassertemperatur und Taupunkt.\n",
    "- Negative Korrelationen zwischen Lufttemperatur und Luftfeuchtigkeit.\n",
    "\n",
    "#### Bemerkungen\n",
    "- Barometrischer Druck entfernt, da schwache Korrelationen"
   ]
  },
  {
   "cell_type": "markdown",
   "metadata": {},
   "source": [
    "Korrelationen Bereich Wind:"
   ]
  },
  {
   "cell_type": "code",
   "execution_count": 14,
   "metadata": {},
   "outputs": [
    {
     "data": {
      "text/plain": [
       "<seaborn.axisgrid.PairGrid at 0x29a6cd10>"
      ]
     },
     "execution_count": 14,
     "metadata": {},
     "output_type": "execute_result"
    },
    {
     "data": {
      "image/png": "[encoded data removed]",
      "text/plain": [
       "<Figure size 720x720 with 20 Axes>"
      ]
     },
     "metadata": {},
     "output_type": "display_data"
    }
   ],
   "source": [
    "tiefenbrunnen_adapt_wind = tiefenbrunnen_.drop( columns = [\"air_temperature\",\"barometric_pressure_qfe\",\"dew_point\",\n",
    "                                                             \"humidity\", \"water_temperature\", \"windchill\"])\n",
    "sns.pairplot(tiefenbrunnen_adapt_wind, kind = \"reg\", diag_kind = \"kde\")"
   ]
  },
  {
   "cell_type": "markdown",
   "metadata": {},
   "source": [
    "#### Auffällligkeiten:\n",
    "- Positive Korrelation zwischen Windrichtung, Geschwindigkeiten und WIndstärke\n",
    "- Starke Positive Korrelation zwischen Windgeschwindigkeit, Stärke"
   ]
  },
  {
   "cell_type": "markdown",
   "metadata": {},
   "source": [
    "### Prognose"
   ]
  },
  {
   "cell_type": "markdown",
   "metadata": {},
   "source": [
    "Als Referenz werden die Temperaturdaten aus dem Jahr 2018 genommen"
   ]
  },
  {
   "cell_type": "code",
   "execution_count": 15,
   "metadata": {},
   "outputs": [
    {
     "data": {
      "text/html": [
       "<div>\n",
       "<style scoped>\n",
       "    .dataframe tbody tr th:only-of-type {\n",
       "        vertical-align: middle;\n",
       "    }\n",
       "\n",
       "    .dataframe tbody tr th {\n",
       "        vertical-align: top;\n",
       "    }\n",
       "\n",
       "    .dataframe thead th {\n",
       "        text-align: right;\n",
       "    }\n",
       "</style>\n",
       "<table border=\"1\" class=\"dataframe\">\n",
       "  <thead>\n",
       "    <tr style=\"text-align: right;\">\n",
       "      <th></th>\n",
       "      <th>air_temperature</th>\n",
       "      <th>water_temperature</th>\n",
       "      <th>wind_gust_max_10min</th>\n",
       "      <th>wind_speed_avg_10min</th>\n",
       "      <th>wind_force_avg_10min</th>\n",
       "      <th>wind_direction</th>\n",
       "      <th>windchill</th>\n",
       "      <th>barometric_pressure_qfe</th>\n",
       "      <th>dew_point</th>\n",
       "      <th>humidity</th>\n",
       "    </tr>\n",
       "    <tr>\n",
       "      <th>timestamp_cet</th>\n",
       "      <th></th>\n",
       "      <th></th>\n",
       "      <th></th>\n",
       "      <th></th>\n",
       "      <th></th>\n",
       "      <th></th>\n",
       "      <th></th>\n",
       "      <th></th>\n",
       "      <th></th>\n",
       "      <th></th>\n",
       "    </tr>\n",
       "  </thead>\n",
       "  <tbody>\n",
       "    <tr>\n",
       "      <th>2007-04-15T11:30:00</th>\n",
       "      <td>17.4</td>\n",
       "      <td>11.9</td>\n",
       "      <td>0.6</td>\n",
       "      <td>0.0</td>\n",
       "      <td>0.0</td>\n",
       "      <td>154</td>\n",
       "      <td>17.4</td>\n",
       "      <td>973.2</td>\n",
       "      <td>9.3</td>\n",
       "      <td>59</td>\n",
       "    </tr>\n",
       "    <tr>\n",
       "      <th>2007-04-15T11:40:00</th>\n",
       "      <td>16.7</td>\n",
       "      <td>12.1</td>\n",
       "      <td>0.5</td>\n",
       "      <td>0.1</td>\n",
       "      <td>0.1</td>\n",
       "      <td>150</td>\n",
       "      <td>16.7</td>\n",
       "      <td>973.3</td>\n",
       "      <td>10.9</td>\n",
       "      <td>69</td>\n",
       "    </tr>\n",
       "    <tr>\n",
       "      <th>2007-04-15T11:50:00</th>\n",
       "      <td>17.0</td>\n",
       "      <td>12.0</td>\n",
       "      <td>0.7</td>\n",
       "      <td>0.1</td>\n",
       "      <td>0.1</td>\n",
       "      <td>145</td>\n",
       "      <td>17.0</td>\n",
       "      <td>973.3</td>\n",
       "      <td>11.0</td>\n",
       "      <td>68</td>\n",
       "    </tr>\n",
       "    <tr>\n",
       "      <th>2007-04-15T12:00:00</th>\n",
       "      <td>17.0</td>\n",
       "      <td>12.0</td>\n",
       "      <td>1.1</td>\n",
       "      <td>0.1</td>\n",
       "      <td>0.1</td>\n",
       "      <td>151</td>\n",
       "      <td>17.0</td>\n",
       "      <td>973.2</td>\n",
       "      <td>10.3</td>\n",
       "      <td>65</td>\n",
       "    </tr>\n",
       "    <tr>\n",
       "      <th>2007-04-15T12:10:00</th>\n",
       "      <td>16.8</td>\n",
       "      <td>12.1</td>\n",
       "      <td>0.7</td>\n",
       "      <td>0.1</td>\n",
       "      <td>0.1</td>\n",
       "      <td>151</td>\n",
       "      <td>16.8</td>\n",
       "      <td>973.2</td>\n",
       "      <td>10.2</td>\n",
       "      <td>65</td>\n",
       "    </tr>\n",
       "  </tbody>\n",
       "</table>\n",
       "</div>"
      ],
      "text/plain": [
       "                     air_temperature  water_temperature  wind_gust_max_10min  \\\n",
       "timestamp_cet                                                                  \n",
       "2007-04-15T11:30:00             17.4               11.9                  0.6   \n",
       "2007-04-15T11:40:00             16.7               12.1                  0.5   \n",
       "2007-04-15T11:50:00             17.0               12.0                  0.7   \n",
       "2007-04-15T12:00:00             17.0               12.0                  1.1   \n",
       "2007-04-15T12:10:00             16.8               12.1                  0.7   \n",
       "\n",
       "                     wind_speed_avg_10min  wind_force_avg_10min  \\\n",
       "timestamp_cet                                                     \n",
       "2007-04-15T11:30:00                   0.0                   0.0   \n",
       "2007-04-15T11:40:00                   0.1                   0.1   \n",
       "2007-04-15T11:50:00                   0.1                   0.1   \n",
       "2007-04-15T12:00:00                   0.1                   0.1   \n",
       "2007-04-15T12:10:00                   0.1                   0.1   \n",
       "\n",
       "                     wind_direction  windchill  barometric_pressure_qfe  \\\n",
       "timestamp_cet                                                             \n",
       "2007-04-15T11:30:00             154       17.4                    973.2   \n",
       "2007-04-15T11:40:00             150       16.7                    973.3   \n",
       "2007-04-15T11:50:00             145       17.0                    973.3   \n",
       "2007-04-15T12:00:00             151       17.0                    973.2   \n",
       "2007-04-15T12:10:00             151       16.8                    973.2   \n",
       "\n",
       "                     dew_point  humidity  \n",
       "timestamp_cet                             \n",
       "2007-04-15T11:30:00        9.3        59  \n",
       "2007-04-15T11:40:00       10.9        69  \n",
       "2007-04-15T11:50:00       11.0        68  \n",
       "2007-04-15T12:00:00       10.3        65  \n",
       "2007-04-15T12:10:00       10.2        65  "
      ]
     },
     "execution_count": 15,
     "metadata": {},
     "output_type": "execute_result"
    }
   ],
   "source": [
    "path_2_file_tiefenbrunnen = \"./influxdb-1.7.8-1/data/messwerte_tiefenbrunnen_2007-2018.csv\"\n",
    "df1 = pd.read_csv(path_2_file_tiefenbrunnen, index_col= 0)\n",
    "\n",
    "df1.head()"
   ]
  },
  {
   "cell_type": "code",
   "execution_count": 14,
   "metadata": {},
   "outputs": [],
   "source": [
    "path_2_file_mythenquai = \"./influxdb-1.7.8-1/data/messwerte_mythenquai_2007-2018.csv\"\n",
    "df_prediction = pd.read_csv(path_2_file_mythenquai, index_col=0)\n",
    "\n",
    "#df_prediction.head()"
   ]
  },
  {
   "cell_type": "code",
   "execution_count": 4,
   "metadata": {},
   "outputs": [
    {
     "data": {
      "text/plain": [
       "52213"
      ]
     },
     "execution_count": 4,
     "metadata": {},
     "output_type": "execute_result"
    }
   ],
   "source": [
    "df_pred = df_prediction\n",
    "df_pred.index = pd.to_datetime(df_pred.index)\n",
    "\n",
    "df_pred = df_pred.loc[\"2018-01-01\":\"2018-12-31\"]\n",
    "\n",
    "len(df_pred)"
   ]
  },
  {
   "cell_type": "markdown",
   "metadata": {},
   "source": [
    "#### Verfahren mit Kolmogorov-Smirnoff Test:    "
   ]
  },
  {
   "cell_type": "markdown",
   "metadata": {},
   "source": [
    "In diesem Schritt werden Daten von zwei Jahren in die eingegebenen Tage gruppiert. Dabei wird ein Datensatz bestehend aus einem Timestamp einer gruppierten Liste aus Temperaturwerten von einem ganzen Tag und und die Maximaltemperatur des nachfolgenden Tages erstellt. Dieser Datensatz dient dazu anhand des statistischen Tests die Temperatur vom Folgetag bestimmen."
   ]
  },
  {
   "cell_type": "code",
   "execution_count": 5,
   "metadata": {},
   "outputs": [],
   "source": [
    "def get_values_in_grouped_days(df, column, group_string, group_int):\n",
    "    \"\"\" \n",
    "    Splits distributions in separate lists of days together as new list of values. This DF is always used as reference to determine temperature of next day.\n",
    "    Input: df = vector or dataframe, column = specific column index, group_string = \"3D\", \"D\", group_int = integer days want to group\n",
    "    \"\"\" \n",
    "    \n",
    "    df.index = pd.to_datetime(df.index) ## Index conversion to datetime\n",
    "    day_shift = -1\n",
    "\n",
    "    df1 = df.iloc[:, column]\n",
    "    \n",
    "    grouped_df = df1.resample(group_string).aggregate(lambda tdf: tdf.tolist()) #Creates new df by grouping days\n",
    "    grouped_df = pd.DataFrame(grouped_df)\n",
    "    \n",
    "    df2 = df.iloc[:, column]\n",
    "    \n",
    "    grouped_df_max = df2.resample(\"D\").aggregate(lambda tdf: tdf.max())\n",
    "    grouped_df_max = pd.DataFrame(grouped_df_max)\n",
    "    grouped_df_max = grouped_df_max[::group_int].iloc[1:] ## takes each third row and drops the first one\n",
    "\n",
    "    new_df = pd.concat([grouped_df, grouped_df_max], axis = 1)\n",
    "    new_df = new_df.shift(day_shift).dropna() \n",
    "    new_df.columns = [\"grouped_values\", \"Temp_next_day\"]\n",
    "    \n",
    "    return new_df\n",
    "     "
   ]
  },
  {
   "cell_type": "code",
   "execution_count": 6,
   "metadata": {},
   "outputs": [
    {
     "data": {
      "text/html": [
       "<div>\n",
       "<style scoped>\n",
       "    .dataframe tbody tr th:only-of-type {\n",
       "        vertical-align: middle;\n",
       "    }\n",
       "\n",
       "    .dataframe tbody tr th {\n",
       "        vertical-align: top;\n",
       "    }\n",
       "\n",
       "    .dataframe thead th {\n",
       "        text-align: right;\n",
       "    }\n",
       "</style>\n",
       "<table border=\"1\" class=\"dataframe\">\n",
       "  <thead>\n",
       "    <tr style=\"text-align: right;\">\n",
       "      <th></th>\n",
       "      <th>grouped_values</th>\n",
       "      <th>Temp_next_day</th>\n",
       "    </tr>\n",
       "    <tr>\n",
       "      <th>timestamp_cet</th>\n",
       "      <th></th>\n",
       "      <th></th>\n",
       "    </tr>\n",
       "  </thead>\n",
       "  <tbody>\n",
       "    <tr>\n",
       "      <th>2018-01-01</th>\n",
       "      <td>[5.9, 5.8, 5.6, 5.5, 5.2, 5.0, 5.1, 5.1, 5.1, ...</td>\n",
       "      <td>7.4</td>\n",
       "    </tr>\n",
       "    <tr>\n",
       "      <th>2018-01-02</th>\n",
       "      <td>[4.1, 4.1, 4.1, 4.0, 4.1, 4.1, 3.9, 3.9, 3.9, ...</td>\n",
       "      <td>14.5</td>\n",
       "    </tr>\n",
       "    <tr>\n",
       "      <th>2018-01-03</th>\n",
       "      <td>[6.0, 6.3, 6.3, 5.8, 5.6, 5.6, 5.7, 6.0, 6.1, ...</td>\n",
       "      <td>13.7</td>\n",
       "    </tr>\n",
       "    <tr>\n",
       "      <th>2018-01-04</th>\n",
       "      <td>[12.4, 12.5, 12.4, 12.3, 12.2, 12.0, 11.9, 11....</td>\n",
       "      <td>13.0</td>\n",
       "    </tr>\n",
       "    <tr>\n",
       "      <th>2018-01-05</th>\n",
       "      <td>[8.5, 8.5, 8.1, 7.6, 7.5, 7.5, 7.5, 7.3, 7.3, ...</td>\n",
       "      <td>8.5</td>\n",
       "    </tr>\n",
       "  </tbody>\n",
       "</table>\n",
       "</div>"
      ],
      "text/plain": [
       "                                                  grouped_values  \\\n",
       "timestamp_cet                                                      \n",
       "2018-01-01     [5.9, 5.8, 5.6, 5.5, 5.2, 5.0, 5.1, 5.1, 5.1, ...   \n",
       "2018-01-02     [4.1, 4.1, 4.1, 4.0, 4.1, 4.1, 3.9, 3.9, 3.9, ...   \n",
       "2018-01-03     [6.0, 6.3, 6.3, 5.8, 5.6, 5.6, 5.7, 6.0, 6.1, ...   \n",
       "2018-01-04     [12.4, 12.5, 12.4, 12.3, 12.2, 12.0, 11.9, 11....   \n",
       "2018-01-05     [8.5, 8.5, 8.1, 7.6, 7.5, 7.5, 7.5, 7.3, 7.3, ...   \n",
       "\n",
       "               Temp_next_day  \n",
       "timestamp_cet                 \n",
       "2018-01-01               7.4  \n",
       "2018-01-02              14.5  \n",
       "2018-01-03              13.7  \n",
       "2018-01-04              13.0  \n",
       "2018-01-05               8.5  "
      ]
     },
     "execution_count": 6,
     "metadata": {},
     "output_type": "execute_result"
    }
   ],
   "source": [
    "sample_df = get_values_in_grouped_days(df_pred, 0, \"1D\", 1)\n",
    "sample_df.head()"
   ]
  },
  {
   "cell_type": "code",
   "execution_count": 7,
   "metadata": {},
   "outputs": [],
   "source": [
    "df_test = df_prediction.loc[\"2010-01-01\":\"2017-12-31\"]\n",
    "df_test = df_test.iloc[:,0]\n",
    "df_test = pd.DataFrame(df_test)\n",
    "df_test2 = df_prediction.loc[\"2018-01-11\":\"2018-01-12\"]"
   ]
  },
  {
   "cell_type": "markdown",
   "metadata": {},
   "source": [
    "### Vorhersage mit KS-Test"
   ]
  },
  {
   "cell_type": "markdown",
   "metadata": {},
   "source": [
    "Der Kolmogorov-Smirnov Test dient dazu um Verteilungen zu vergleichen nach ihrer Übereinstimmung.\n",
    "In unserem Fall liegen zwei Zufallsvariablen vor. Die erste Zufallsvarbiable besteht aus den Temperaturdaten vom Vergleichsjahr, welche in der oberen Funktion in einem Datensatz gespeichert wurden. Die zweite Zufallsvariable ist in unserem Fall der aktuelle Tag, welcher mit unseren Vergleichsdaten verglichen wird. Falls die Daten übereinstimmen ist anzunehmen, dass die Werte aus der gleichen Population(gleicher Tag) stammen. Ausserdem ist in diesem Vergleich die Hypothese, dass wenn die Temperaturverteilung vom Vortrag eintritt, dass die Temperatur am Folgetag nachher so wird wie im Vergleichsdatensatz."
   ]
  },
  {
   "cell_type": "code",
   "execution_count": 8,
   "metadata": {},
   "outputs": [],
   "source": [
    "from scipy import stats as spstats\n",
    "\n",
    "def prediction_ks_test(df_for_test, sample_df):\n",
    "    \"\"\"Predicts the value of next day by using the statistical KS-Test of Scipy package. It's used to compare the distributions of two\n",
    "    test samples. The higher the probability value the better is the fit.\n",
    "    Input: df_for_test: dataframe of one day to perform the test / sample_df: specific sample df as reference\n",
    "    Returns: fitting maximum temperature of next day\n",
    "    \"\"\"\n",
    "    KS_p_val_to_compare = 0\n",
    "    fitting_temp_next_day = 0\n",
    "    iterations = 0 ## length not equal of sample df \n",
    "        \n",
    "    for row in range(0, len(sample_df)):\n",
    "                                \n",
    "        KS_stat, KS_p_val = spstats.ks_2samp(df_for_test.iloc[:, 0], sample_df.iloc[row, 0]) # Perform t-test\n",
    "          \n",
    "        if KS_p_val > KS_p_val_to_compare:\n",
    "            KS_p_val_to_compare = KS_p_val\n",
    "            fitting_temp_next_day = sample_df.iloc[row, 1]\n",
    "            \n",
    "        iterations = iterations + 1        \n",
    "            \n",
    "    #print(\"P-Wert: {} / Iterations: {} / Fitting Temp.: {}\".format(KS_p_val_to_compare, iterations, fitting_temp_next_day))                                                                                                                            \n",
    "    \n",
    "    return fitting_temp_next_day\n",
    "     "
   ]
  },
  {
   "cell_type": "markdown",
   "metadata": {},
   "source": [
    "#### Performance Kolmogorov-Smirnoff:\n",
    "Die Funktion berechnet die Performance des KS-Test. Dabei werden Daten von einem Jahr schrittweise in die Funktion eingegeben und der Ist-Temperaturwert mit dem vorausgesagten Temperaturwert verglichen. In diesem Fall werden Daten von einem Jahr in die Funktion eingegeben und des Genauigkeit überprüft. Die Funktino gibt als Messwert zum Einen den Durchschnitt und zum zweiten eine List von der Abweichung der Temperaturwerte zurück."
   ]
  },
  {
   "cell_type": "code",
   "execution_count": 9,
   "metadata": {},
   "outputs": [],
   "source": [
    "def prediction_test_KS(df_test, sample_df, days_used_for_prediction):\n",
    "    \"\"\"Purpose is to test a generated prediction method of one year. Calculates the average deviation of one simulative test year\n",
    "    Parameters: df_test = df which should be tested(first column) / days_used_... = 1d (how much days're used for the prediction)\n",
    "    \"\"\"\n",
    "    days_offset = days_used_for_prediction         \n",
    "    start_date_str = \"2015-01-01\" ## Check all Values for this year\n",
    "    start_date = datetime.datetime.strptime(start_date_str,  \"%Y-%m-%d\")\n",
    "    days_in_df_test = len(df_test.index.dayofyear.unique())\n",
    "    \n",
    "    test_results = np.array([])\n",
    "    \n",
    "    for day in range(days_used_for_prediction, days_in_df_test):\n",
    "        ## Maximum Temperature of +1day or how much \n",
    "        time_delta1,time_delta2 = datetime.timedelta(days = day), datetime.timedelta(days = day + 1)\n",
    "        val_date1, val_date2 = start_date + time_delta1, start_date + time_delta2      ## Valuable date\n",
    "         \n",
    "        df_ref = df_test.loc[val_date1:val_date2]\n",
    "        ## df_max = df_ref.values.max()\n",
    "        if df_ref.empty == False:\n",
    "            df_max = np.max(df_ref)\n",
    "        \n",
    "        ###### Function part: KS_test \n",
    "        KS_time_delta = datetime.timedelta(days = day - days_used_for_prediction) ## time-frame for prediction\n",
    "        KS_val_date1, KS_val_date2 = start_date + KS_time_delta, start_date + time_delta1 ## same as ttest_timedelta +1\n",
    "        KS_df_test = df_test.loc[KS_val_date1 : KS_val_date2]\n",
    "        \n",
    "        if KS_df_test.empty == False:\n",
    "            KS_test_temp = prediction_ks_test(KS_df_test, sample_df)\n",
    "        \n",
    "        deviation_test = df_max - KS_test_temp ## Absolute difference to real value\n",
    "        \n",
    "        test_results = np.append(test_results, deviation_test)\n",
    "            \n",
    "    test_result = np.mean(test_results)\n",
    "        \n",
    "    print(\"The average deviation of a year: {} K\".format(test_result))\n",
    "\n",
    "    return test_results\n"
   ]
  },
  {
   "cell_type": "code",
   "execution_count": 10,
   "metadata": {
    "scrolled": false
   },
   "outputs": [
    {
     "name": "stdout",
     "output_type": "stream",
     "text": [
      "The average deviation of a year: -0.08109589041095883 K\n"
     ]
    }
   ],
   "source": [
    "test_results = prediction_test_KS(df_test, sample_df, 1)"
   ]
  },
  {
   "cell_type": "markdown",
   "metadata": {},
   "source": [
    "Der Plot zeigt ein Histogramm mit all den Messwerten, welche von der Funktion generiert worden sind."
   ]
  },
  {
   "cell_type": "code",
   "execution_count": 13,
   "metadata": {},
   "outputs": [
    {
     "name": "stdout",
     "output_type": "stream",
     "text": [
      "365\n"
     ]
    },
    {
     "data": {
      "image/png": "[encoded data removed]",
      "text/plain": [
       "<Figure size 432x288 with 1 Axes>"
      ]
     },
     "metadata": {
      "needs_background": "light"
     },
     "output_type": "display_data"
    }
   ],
   "source": [
    "print(len(test_results))\n",
    "sns.distplot(test_results, kde = False)\n",
    "plt.show()"
   ]
  }
 ],
 "metadata": {
  "celltoolbar": "Raw Cell Format",
  "kernelspec": {
   "display_name": "Python 3",
   "language": "python",
   "name": "python3"
  },
  "language_info": {
   "codemirror_mode": {
    "name": "ipython",
    "version": 3
   },
   "file_extension": ".py",
   "mimetype": "text/x-python",
   "name": "python",
   "nbconvert_exporter": "python",
   "pygments_lexer": "ipython3",
   "version": "3.7.4"
  }
 },
 "nbformat": 4,
 "nbformat_minor": 4
}
