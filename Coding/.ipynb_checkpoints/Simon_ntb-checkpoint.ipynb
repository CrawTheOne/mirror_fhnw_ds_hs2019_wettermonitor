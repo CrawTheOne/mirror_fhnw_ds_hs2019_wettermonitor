{
 "cells": [
  {
   "cell_type": "markdown",
   "metadata": {},
   "source": [
    "### Simon's Exploratory Data Analysis"
   ]
  },
  {
   "cell_type": "markdown",
   "metadata": {},
   "source": [
    "#### Import Packages"
   ]
  },
  {
   "cell_type": "code",
   "execution_count": 1,
   "metadata": {},
   "outputs": [
    {
     "name": "stdout",
     "output_type": "stream",
     "text": [
      "localhost:8086\n"
     ]
    }
   ],
   "source": [
    "import pandas as pd\n",
    "from influxdb import DataFrameClient, InfluxDBClient\n",
    "import pytz\n",
    "import config\n",
    "import seaborn as sns\n",
    "import datetime\n",
    "import matplotlib.pyplot as plt\n",
    "import numpy as np"
   ]
  },
  {
   "cell_type": "markdown",
   "metadata": {},
   "source": [
    "#### Formulas"
   ]
  },
  {
   "cell_type": "code",
   "execution_count": 2,
   "metadata": {},
   "outputs": [],
   "source": [
    "def rowindex_as_col(df):\n",
    "    \"\"\"add row index(time) to new column. df = dataframe, name_col = new column name\"\"\"\n",
    "    df.index.name = \"Time\"\n",
    "    df = df.reset_index(inplace=False)\n",
    "    df = pd.DataFrame(df)\n",
    "    return df\n",
    "\n",
    "def appropriate_dtypes(df, column_name, result_dtype ):\n",
    "    \"\"\"Datentypen für Tiefenbrunnen ändern\"\"\"\n",
    "    df = df.astype({column_name: result_dtype})\n",
    "    return df\n",
    "    \n",
    "def select_timedelta(time_offset_days,  time_delta_in_days):\n",
    "    \"\"\"Make a Select Statement on pass over to new df a certain timedelta from NOW / double_output!: Output1, Output2 = func() /\n",
    "    example: time_delta_in_days = 10\n",
    "    Inputs: time_offset_days = 0, time_delta_in_days = 365\n",
    "    \"\"\"\n",
    "    #Set time relative to now for Query (today: 00:00:00)\n",
    "    now = datetime.datetime.today()\n",
    "    start = now - datetime.timedelta(days = time_offset_days)\n",
    "    past = now - datetime.timedelta(days = time_delta_in_days)\n",
    "\n",
    "    #Set start and end time\n",
    "    end_time = start.strftime(\"%Y-%m-%d %H:%M:%S\")\n",
    "    start_time = past.strftime(\"%Y-%m-%d %H:%M:%S\")\n",
    "\n",
    "    # NoSQL Query  (to be added: timezone adjusting)\n",
    "    query = \"SELECT * FROM \\\"{}\\\",\\\"{}\\\" WHERE time >= '{}' AND time <= '{}' \"\\\n",
    "                        .format(config.stations[0], config.stations[1], start_time, end_time)\n",
    "    df_temp = client.query(query)\n",
    "\n",
    "    # to create pandas df, use only one dicitonary part (mythenquai, tiefenbrunnen)\n",
    "    df_mythenquai = pd.DataFrame(df_temp['mythenquai'])\n",
    "    df_tiefenbrunnen = pd.DataFrame(df_temp['tiefenbrunnen'])\n",
    "    \n",
    "    return df_mythenquai, df_tiefenbrunnen"
   ]
  },
  {
   "cell_type": "markdown",
   "metadata": {},
   "source": [
    "#### Define DataFrameClient from Pandas"
   ]
  },
  {
   "cell_type": "code",
   "execution_count": 3,
   "metadata": {},
   "outputs": [],
   "source": [
    "client = DataFrameClient(host = config.DB_HOST, port = config.DB_PORT, database = config.DB_DBNAME)"
   ]
  },
  {
   "cell_type": "markdown",
   "metadata": {},
   "source": [
    "#### Query Data from InfluxDB"
   ]
  },
  {
   "cell_type": "code",
   "execution_count": 4,
   "metadata": {
    "scrolled": true
   },
   "outputs": [],
   "source": [
    "mythenquai_1y, tiefenbrunnen_1y = select_timedelta(0, 365)"
   ]
  },
  {
   "cell_type": "markdown",
   "metadata": {},
   "source": [
    "#### Transform Data"
   ]
  },
  {
   "cell_type": "code",
   "execution_count": 5,
   "metadata": {},
   "outputs": [],
   "source": [
    "tiefenbrunnen_1y = appropriate_dtypes(tiefenbrunnen_1y, \"humidity\" , np.int8)\n",
    "tiefenbrunnen_1y = appropriate_dtypes(tiefenbrunnen_1y, \"wind_direction\", np.int16)"
   ]
  },
  {
   "cell_type": "code",
   "execution_count": 6,
   "metadata": {},
   "outputs": [],
   "source": [
    "mythenquai_1y = appropriate_dtypes(mythenquai_1y, \"humidity\", np.int8)\n",
    "mythenquai_1y = appropriate_dtypes(mythenquai_1y,\"wind_direction\", np.int16 )"
   ]
  },
  {
   "cell_type": "markdown",
   "metadata": {},
   "source": [
    "### Exploratory Data Analysis"
   ]
  },
  {
   "cell_type": "markdown",
   "metadata": {},
   "source": [
    "Aesthetische Einstellungen:"
   ]
  },
  {
   "cell_type": "code",
   "execution_count": 7,
   "metadata": {},
   "outputs": [],
   "source": [
    "sns.set_style(\"darkgrid\")\n",
    "sns.set_palette(\"Paired\")"
   ]
  },
  {
   "cell_type": "code",
   "execution_count": 8,
   "metadata": {},
   "outputs": [
    {
     "data": {
      "text/html": [
       "<div>\n",
       "<style scoped>\n",
       "    .dataframe tbody tr th:only-of-type {\n",
       "        vertical-align: middle;\n",
       "    }\n",
       "\n",
       "    .dataframe tbody tr th {\n",
       "        vertical-align: top;\n",
       "    }\n",
       "\n",
       "    .dataframe thead th {\n",
       "        text-align: right;\n",
       "    }\n",
       "</style>\n",
       "<table border=\"1\" class=\"dataframe\">\n",
       "  <thead>\n",
       "    <tr style=\"text-align: right;\">\n",
       "      <th></th>\n",
       "      <th>air_temperature</th>\n",
       "      <th>barometric_pressure_qfe</th>\n",
       "      <th>dew_point</th>\n",
       "      <th>humidity</th>\n",
       "      <th>water_temperature</th>\n",
       "      <th>wind_direction</th>\n",
       "      <th>wind_force_avg_10min</th>\n",
       "      <th>wind_gust_max_10min</th>\n",
       "      <th>wind_speed_avg_10min</th>\n",
       "      <th>windchill</th>\n",
       "    </tr>\n",
       "  </thead>\n",
       "  <tbody>\n",
       "    <tr>\n",
       "      <td>count</td>\n",
       "      <td>52529.0</td>\n",
       "      <td>52529.0</td>\n",
       "      <td>52529.0</td>\n",
       "      <td>52529.0</td>\n",
       "      <td>52529.0</td>\n",
       "      <td>52529.0</td>\n",
       "      <td>52529.0</td>\n",
       "      <td>52529.0</td>\n",
       "      <td>52529.0</td>\n",
       "      <td>52529.0</td>\n",
       "    </tr>\n",
       "    <tr>\n",
       "      <td>mean</td>\n",
       "      <td>11.8</td>\n",
       "      <td>968.8</td>\n",
       "      <td>7.0</td>\n",
       "      <td>74.7</td>\n",
       "      <td>13.4</td>\n",
       "      <td>134.0</td>\n",
       "      <td>1.0</td>\n",
       "      <td>2.6</td>\n",
       "      <td>1.1</td>\n",
       "      <td>11.2</td>\n",
       "    </tr>\n",
       "    <tr>\n",
       "      <td>std</td>\n",
       "      <td>7.7</td>\n",
       "      <td>8.3</td>\n",
       "      <td>6.2</td>\n",
       "      <td>15.4</td>\n",
       "      <td>6.8</td>\n",
       "      <td>113.0</td>\n",
       "      <td>1.1</td>\n",
       "      <td>2.9</td>\n",
       "      <td>1.6</td>\n",
       "      <td>8.1</td>\n",
       "    </tr>\n",
       "    <tr>\n",
       "      <td>min</td>\n",
       "      <td>-3.9</td>\n",
       "      <td>934.2</td>\n",
       "      <td>-7.4</td>\n",
       "      <td>19.0</td>\n",
       "      <td>4.7</td>\n",
       "      <td>0.0</td>\n",
       "      <td>0.0</td>\n",
       "      <td>0.0</td>\n",
       "      <td>0.0</td>\n",
       "      <td>-7.2</td>\n",
       "    </tr>\n",
       "    <tr>\n",
       "      <td>25%</td>\n",
       "      <td>5.5</td>\n",
       "      <td>964.5</td>\n",
       "      <td>1.9</td>\n",
       "      <td>65.0</td>\n",
       "      <td>6.7</td>\n",
       "      <td>32.0</td>\n",
       "      <td>0.0</td>\n",
       "      <td>0.6</td>\n",
       "      <td>0.0</td>\n",
       "      <td>4.5</td>\n",
       "    </tr>\n",
       "    <tr>\n",
       "      <td>50%</td>\n",
       "      <td>11.4</td>\n",
       "      <td>969.1</td>\n",
       "      <td>6.5</td>\n",
       "      <td>77.0</td>\n",
       "      <td>12.1</td>\n",
       "      <td>120.0</td>\n",
       "      <td>1.0</td>\n",
       "      <td>1.7</td>\n",
       "      <td>0.5</td>\n",
       "      <td>10.4</td>\n",
       "    </tr>\n",
       "    <tr>\n",
       "      <td>75%</td>\n",
       "      <td>17.4</td>\n",
       "      <td>973.5</td>\n",
       "      <td>12.3</td>\n",
       "      <td>87.0</td>\n",
       "      <td>19.6</td>\n",
       "      <td>215.0</td>\n",
       "      <td>2.0</td>\n",
       "      <td>3.6</td>\n",
       "      <td>1.6</td>\n",
       "      <td>17.2</td>\n",
       "    </tr>\n",
       "    <tr>\n",
       "      <td>max</td>\n",
       "      <td>35.8</td>\n",
       "      <td>988.4</td>\n",
       "      <td>23.4</td>\n",
       "      <td>100.0</td>\n",
       "      <td>70.0</td>\n",
       "      <td>360.0</td>\n",
       "      <td>8.7</td>\n",
       "      <td>24.0</td>\n",
       "      <td>12.6</td>\n",
       "      <td>35.9</td>\n",
       "    </tr>\n",
       "  </tbody>\n",
       "</table>\n",
       "</div>"
      ],
      "text/plain": [
       "       air_temperature  barometric_pressure_qfe  dew_point  humidity  \\\n",
       "count          52529.0                  52529.0    52529.0   52529.0   \n",
       "mean              11.8                    968.8        7.0      74.7   \n",
       "std                7.7                      8.3        6.2      15.4   \n",
       "min               -3.9                    934.2       -7.4      19.0   \n",
       "25%                5.5                    964.5        1.9      65.0   \n",
       "50%               11.4                    969.1        6.5      77.0   \n",
       "75%               17.4                    973.5       12.3      87.0   \n",
       "max               35.8                    988.4       23.4     100.0   \n",
       "\n",
       "       water_temperature  wind_direction  wind_force_avg_10min  \\\n",
       "count            52529.0         52529.0               52529.0   \n",
       "mean                13.4           134.0                   1.0   \n",
       "std                  6.8           113.0                   1.1   \n",
       "min                  4.7             0.0                   0.0   \n",
       "25%                  6.7            32.0                   0.0   \n",
       "50%                 12.1           120.0                   1.0   \n",
       "75%                 19.6           215.0                   2.0   \n",
       "max                 70.0           360.0                   8.7   \n",
       "\n",
       "       wind_gust_max_10min  wind_speed_avg_10min  windchill  \n",
       "count              52529.0               52529.0    52529.0  \n",
       "mean                   2.6                   1.1       11.2  \n",
       "std                    2.9                   1.6        8.1  \n",
       "min                    0.0                   0.0       -7.2  \n",
       "25%                    0.6                   0.0        4.5  \n",
       "50%                    1.7                   0.5       10.4  \n",
       "75%                    3.6                   1.6       17.2  \n",
       "max                   24.0                  12.6       35.9  "
      ]
     },
     "execution_count": 8,
     "metadata": {},
     "output_type": "execute_result"
    }
   ],
   "source": [
    "round(tiefenbrunnen_1y.describe(),1)"
   ]
  },
  {
   "cell_type": "code",
   "execution_count": 9,
   "metadata": {
    "scrolled": true
   },
   "outputs": [
    {
     "data": {
      "text/html": [
       "<div>\n",
       "<style scoped>\n",
       "    .dataframe tbody tr th:only-of-type {\n",
       "        vertical-align: middle;\n",
       "    }\n",
       "\n",
       "    .dataframe tbody tr th {\n",
       "        vertical-align: top;\n",
       "    }\n",
       "\n",
       "    .dataframe thead th {\n",
       "        text-align: right;\n",
       "    }\n",
       "</style>\n",
       "<table border=\"1\" class=\"dataframe\">\n",
       "  <thead>\n",
       "    <tr style=\"text-align: right;\">\n",
       "      <th></th>\n",
       "      <th>air_temperature</th>\n",
       "      <th>barometric_pressure_qfe</th>\n",
       "      <th>dew_point</th>\n",
       "      <th>global_radiation</th>\n",
       "      <th>humidity</th>\n",
       "      <th>precipitation</th>\n",
       "      <th>water_level</th>\n",
       "      <th>water_temperature</th>\n",
       "      <th>wind_direction</th>\n",
       "      <th>wind_force_avg_10min</th>\n",
       "      <th>wind_gust_max_10min</th>\n",
       "      <th>wind_speed_avg_10min</th>\n",
       "      <th>windchill</th>\n",
       "    </tr>\n",
       "  </thead>\n",
       "  <tbody>\n",
       "    <tr>\n",
       "      <td>count</td>\n",
       "      <td>52498.0</td>\n",
       "      <td>52498.0</td>\n",
       "      <td>52498.0</td>\n",
       "      <td>52498.0</td>\n",
       "      <td>52498.0</td>\n",
       "      <td>52498.0</td>\n",
       "      <td>2232.0</td>\n",
       "      <td>52498.0</td>\n",
       "      <td>52498.0</td>\n",
       "      <td>52498.0</td>\n",
       "      <td>52498.0</td>\n",
       "      <td>52498.0</td>\n",
       "      <td>52498.0</td>\n",
       "    </tr>\n",
       "    <tr>\n",
       "      <td>mean</td>\n",
       "      <td>11.7</td>\n",
       "      <td>968.9</td>\n",
       "      <td>7.1</td>\n",
       "      <td>137.3</td>\n",
       "      <td>75.5</td>\n",
       "      <td>0.0</td>\n",
       "      <td>405.9</td>\n",
       "      <td>13.5</td>\n",
       "      <td>164.3</td>\n",
       "      <td>1.7</td>\n",
       "      <td>3.8</td>\n",
       "      <td>2.0</td>\n",
       "      <td>10.6</td>\n",
       "    </tr>\n",
       "    <tr>\n",
       "      <td>std</td>\n",
       "      <td>7.9</td>\n",
       "      <td>8.3</td>\n",
       "      <td>6.3</td>\n",
       "      <td>227.1</td>\n",
       "      <td>15.9</td>\n",
       "      <td>0.1</td>\n",
       "      <td>0.1</td>\n",
       "      <td>6.9</td>\n",
       "      <td>114.0</td>\n",
       "      <td>1.0</td>\n",
       "      <td>2.9</td>\n",
       "      <td>1.5</td>\n",
       "      <td>8.4</td>\n",
       "    </tr>\n",
       "    <tr>\n",
       "      <td>min</td>\n",
       "      <td>-3.9</td>\n",
       "      <td>934.1</td>\n",
       "      <td>-7.9</td>\n",
       "      <td>0.0</td>\n",
       "      <td>19.0</td>\n",
       "      <td>0.0</td>\n",
       "      <td>405.8</td>\n",
       "      <td>4.5</td>\n",
       "      <td>0.0</td>\n",
       "      <td>0.0</td>\n",
       "      <td>0.0</td>\n",
       "      <td>0.0</td>\n",
       "      <td>-7.7</td>\n",
       "    </tr>\n",
       "    <tr>\n",
       "      <td>25%</td>\n",
       "      <td>5.3</td>\n",
       "      <td>964.6</td>\n",
       "      <td>1.9</td>\n",
       "      <td>0.0</td>\n",
       "      <td>65.0</td>\n",
       "      <td>0.0</td>\n",
       "      <td>405.9</td>\n",
       "      <td>6.7</td>\n",
       "      <td>55.0</td>\n",
       "      <td>1.0</td>\n",
       "      <td>1.9</td>\n",
       "      <td>1.1</td>\n",
       "      <td>3.5</td>\n",
       "    </tr>\n",
       "    <tr>\n",
       "      <td>50%</td>\n",
       "      <td>11.1</td>\n",
       "      <td>969.2</td>\n",
       "      <td>6.6</td>\n",
       "      <td>3.0</td>\n",
       "      <td>79.0</td>\n",
       "      <td>0.0</td>\n",
       "      <td>405.9</td>\n",
       "      <td>12.3</td>\n",
       "      <td>158.0</td>\n",
       "      <td>2.0</td>\n",
       "      <td>3.2</td>\n",
       "      <td>1.8</td>\n",
       "      <td>9.7</td>\n",
       "    </tr>\n",
       "    <tr>\n",
       "      <td>75%</td>\n",
       "      <td>17.4</td>\n",
       "      <td>973.5</td>\n",
       "      <td>12.4</td>\n",
       "      <td>180.0</td>\n",
       "      <td>89.0</td>\n",
       "      <td>0.0</td>\n",
       "      <td>405.9</td>\n",
       "      <td>20.0</td>\n",
       "      <td>283.0</td>\n",
       "      <td>2.0</td>\n",
       "      <td>5.1</td>\n",
       "      <td>2.8</td>\n",
       "      <td>16.8</td>\n",
       "    </tr>\n",
       "    <tr>\n",
       "      <td>max</td>\n",
       "      <td>37.4</td>\n",
       "      <td>988.4</td>\n",
       "      <td>24.6</td>\n",
       "      <td>1000.0</td>\n",
       "      <td>100.0</td>\n",
       "      <td>9.0</td>\n",
       "      <td>406.1</td>\n",
       "      <td>27.7</td>\n",
       "      <td>360.0</td>\n",
       "      <td>7.7</td>\n",
       "      <td>23.5</td>\n",
       "      <td>17.1</td>\n",
       "      <td>37.6</td>\n",
       "    </tr>\n",
       "  </tbody>\n",
       "</table>\n",
       "</div>"
      ],
      "text/plain": [
       "       air_temperature  barometric_pressure_qfe  dew_point  global_radiation  \\\n",
       "count          52498.0                  52498.0    52498.0           52498.0   \n",
       "mean              11.7                    968.9        7.1             137.3   \n",
       "std                7.9                      8.3        6.3             227.1   \n",
       "min               -3.9                    934.1       -7.9               0.0   \n",
       "25%                5.3                    964.6        1.9               0.0   \n",
       "50%               11.1                    969.2        6.6               3.0   \n",
       "75%               17.4                    973.5       12.4             180.0   \n",
       "max               37.4                    988.4       24.6            1000.0   \n",
       "\n",
       "       humidity  precipitation  water_level  water_temperature  \\\n",
       "count   52498.0        52498.0       2232.0            52498.0   \n",
       "mean       75.5            0.0        405.9               13.5   \n",
       "std        15.9            0.1          0.1                6.9   \n",
       "min        19.0            0.0        405.8                4.5   \n",
       "25%        65.0            0.0        405.9                6.7   \n",
       "50%        79.0            0.0        405.9               12.3   \n",
       "75%        89.0            0.0        405.9               20.0   \n",
       "max       100.0            9.0        406.1               27.7   \n",
       "\n",
       "       wind_direction  wind_force_avg_10min  wind_gust_max_10min  \\\n",
       "count         52498.0               52498.0              52498.0   \n",
       "mean            164.3                   1.7                  3.8   \n",
       "std             114.0                   1.0                  2.9   \n",
       "min               0.0                   0.0                  0.0   \n",
       "25%              55.0                   1.0                  1.9   \n",
       "50%             158.0                   2.0                  3.2   \n",
       "75%             283.0                   2.0                  5.1   \n",
       "max             360.0                   7.7                 23.5   \n",
       "\n",
       "       wind_speed_avg_10min  windchill  \n",
       "count               52498.0    52498.0  \n",
       "mean                    2.0       10.6  \n",
       "std                     1.5        8.4  \n",
       "min                     0.0       -7.7  \n",
       "25%                     1.1        3.5  \n",
       "50%                     1.8        9.7  \n",
       "75%                     2.8       16.8  \n",
       "max                    17.1       37.6  "
      ]
     },
     "execution_count": 9,
     "metadata": {},
     "output_type": "execute_result"
    }
   ],
   "source": [
    "round(mythenquai_1y.describe(),1)"
   ]
  },
  {
   "cell_type": "markdown",
   "metadata": {},
   "source": [
    "Korrelationen Bereich Temperatur und Feuchte:"
   ]
  },
  {
   "cell_type": "code",
   "execution_count": 10,
   "metadata": {
    "scrolled": true
   },
   "outputs": [
    {
     "data": {
      "text/html": [
       "<div>\n",
       "<style scoped>\n",
       "    .dataframe tbody tr th:only-of-type {\n",
       "        vertical-align: middle;\n",
       "    }\n",
       "\n",
       "    .dataframe tbody tr th {\n",
       "        vertical-align: top;\n",
       "    }\n",
       "\n",
       "    .dataframe thead th {\n",
       "        text-align: right;\n",
       "    }\n",
       "</style>\n",
       "<table border=\"1\" class=\"dataframe\">\n",
       "  <thead>\n",
       "    <tr style=\"text-align: right;\">\n",
       "      <th></th>\n",
       "      <th>Time</th>\n",
       "      <th>air_temperature</th>\n",
       "      <th>dew_point</th>\n",
       "      <th>humidity</th>\n",
       "      <th>water_temperature</th>\n",
       "    </tr>\n",
       "  </thead>\n",
       "  <tbody>\n",
       "    <tr>\n",
       "      <td>0</td>\n",
       "      <td>2018-12-16 11:10:00+00:00</td>\n",
       "      <td>3.1</td>\n",
       "      <td>2.4</td>\n",
       "      <td>95</td>\n",
       "      <td>7.4</td>\n",
       "    </tr>\n",
       "    <tr>\n",
       "      <td>1</td>\n",
       "      <td>2018-12-16 11:20:00+00:00</td>\n",
       "      <td>3.2</td>\n",
       "      <td>2.5</td>\n",
       "      <td>95</td>\n",
       "      <td>7.4</td>\n",
       "    </tr>\n",
       "    <tr>\n",
       "      <td>2</td>\n",
       "      <td>2018-12-16 11:30:00+00:00</td>\n",
       "      <td>3.4</td>\n",
       "      <td>2.5</td>\n",
       "      <td>94</td>\n",
       "      <td>7.4</td>\n",
       "    </tr>\n",
       "    <tr>\n",
       "      <td>3</td>\n",
       "      <td>2018-12-16 11:40:00+00:00</td>\n",
       "      <td>3.6</td>\n",
       "      <td>2.7</td>\n",
       "      <td>94</td>\n",
       "      <td>7.4</td>\n",
       "    </tr>\n",
       "    <tr>\n",
       "      <td>4</td>\n",
       "      <td>2018-12-16 11:50:00+00:00</td>\n",
       "      <td>3.8</td>\n",
       "      <td>3.0</td>\n",
       "      <td>94</td>\n",
       "      <td>7.4</td>\n",
       "    </tr>\n",
       "  </tbody>\n",
       "</table>\n",
       "</div>"
      ],
      "text/plain": [
       "                       Time  air_temperature  dew_point  humidity  \\\n",
       "0 2018-12-16 11:10:00+00:00              3.1        2.4        95   \n",
       "1 2018-12-16 11:20:00+00:00              3.2        2.5        95   \n",
       "2 2018-12-16 11:30:00+00:00              3.4        2.5        94   \n",
       "3 2018-12-16 11:40:00+00:00              3.6        2.7        94   \n",
       "4 2018-12-16 11:50:00+00:00              3.8        3.0        94   \n",
       "\n",
       "   water_temperature  \n",
       "0                7.4  \n",
       "1                7.4  \n",
       "2                7.4  \n",
       "3                7.4  \n",
       "4                7.4  "
      ]
     },
     "execution_count": 10,
     "metadata": {},
     "output_type": "execute_result"
    }
   ],
   "source": [
    "tiefenbrunnen_adapt_temp = tiefenbrunnen_1y.drop( columns = [\"wind_direction\",\"wind_force_avg_10min\",\n",
    "                                                             \"wind_gust_max_10min\",\"wind_speed_avg_10min\",\n",
    "                                                             \"windchill\", \"barometric_pressure_qfe\"])\n",
    "\n",
    "tiefenbrunnen_adapt_temp = rowindex_as_col(tiefenbrunnen_adapt_temp)\n",
    "tiefenbrunnen_adapt_temp.head()\n",
    "\n",
    "#sns.pairplot(tiefenbrunnen_adapt_temp, kind = \"reg\", diag_kind = \"kde\")"
   ]
  },
  {
   "cell_type": "markdown",
   "metadata": {},
   "source": [
    "#### Auffälligkeiten:\n",
    "- Luftfeuchtigkeit sollte mit Temperatur steigen. Erklärung?\n",
    "- Eigentlich sollte der Taupunkt bei 100% relativer Luftfeuchte sein. Erklärung?\n",
    "- Es bestehen positive Korrelationen zwischen Lufttemperatur, Wassertemperatur und Taupunkt.\n",
    "- Negative Korrelationen zwischen Lufttemperatur und Luftfeuchtigkeit.\n",
    "\n",
    "#### Bemerkungen\n",
    "- Barometrischer Druck entfernt, da schwache Korrelationen"
   ]
  },
  {
   "cell_type": "markdown",
   "metadata": {},
   "source": [
    "Korrelationen Bereich Wind:"
   ]
  },
  {
   "cell_type": "code",
   "execution_count": 11,
   "metadata": {},
   "outputs": [
    {
     "data": {
      "text/plain": [
       "<seaborn.axisgrid.PairGrid at 0x1a39e732c48>"
      ]
     },
     "execution_count": 11,
     "metadata": {},
     "output_type": "execute_result"
    },
    {
     "data": {
      "image/png": "[encoded data removed]",
      "text/plain": [
       "<Figure size 720x720 with 20 Axes>"
      ]
     },
     "metadata": {},
     "output_type": "display_data"
    }
   ],
   "source": [
    "tiefenbrunnen_adapt_wind = tiefenbrunnen_1y.drop( columns = [\"air_temperature\",\"barometric_pressure_qfe\",\"dew_point\",\n",
    "                                                             \"humidity\", \"water_temperature\", \"windchill\"])\n",
    "\n",
    "sns.pairplot(tiefenbrunnen_adapt_wind, kind = \"reg\", diag_kind = \"kde\")"
   ]
  },
  {
   "cell_type": "markdown",
   "metadata": {},
   "source": [
    "#### Auffällligkeiten:\n",
    "- Positive Korrelation zwischen Windrichtung, Geschwindigkeiten und WIndstärke\n",
    "- Starke Positive Korrelation zwischen Windgeschwindigkeit, Stärke"
   ]
  },
  {
   "cell_type": "markdown",
   "metadata": {},
   "source": [
    "#### Zeitliche Datenanalyse"
   ]
  },
  {
   "cell_type": "code",
   "execution_count": 28,
   "metadata": {
    "scrolled": true
   },
   "outputs": [
    {
     "data": {
      "text/plain": [
       "<function matplotlib.pyplot.show(*args, **kw)>"
      ]
     },
     "execution_count": 28,
     "metadata": {},
     "output_type": "execute_result"
    },
    {
     "data": {
      "image/png": "[encoded data removed]",
      "text/plain": [
       "<Figure size 432x288 with 1 Axes>"
      ]
     },
     "metadata": {},
     "output_type": "display_data"
    },
    {
     "data": {
      "text/plain": [
       "<Figure size 288x2160 with 0 Axes>"
      ]
     },
     "metadata": {},
     "output_type": "display_data"
    }
   ],
   "source": [
    "tiefenbrunnen_1y_time = rowindex_as_col(tiefenbrunnen_1y)\n",
    "\n",
    "sns.lineplot(x= tiefenbrunnen_1y_time[\"Time\"], y= tiefenbrunnen_1y_time[\"air_temperature\"])\n",
    "plt.show"
   ]
  },
  {
   "cell_type": "markdown",
   "metadata": {},
   "source": [
    "### Einfache Voraussage anhand Verteilung der Temperaturen oder des Windes"
   ]
  },
  {
   "cell_type": "code",
   "execution_count": 13,
   "metadata": {},
   "outputs": [],
   "source": [
    "mythenquai_3d, tiefenbrunnen_3d = select_timedelta(0, 3) # Get data with function for 3days\n",
    "mythenquai_3d, tiefenbrunnen_3d = rowindex_as_col(mythenquai_3d), rowindex_as_col(tiefenbrunnen_3d)"
   ]
  },
  {
   "cell_type": "code",
   "execution_count": 14,
   "metadata": {
    "scrolled": true
   },
   "outputs": [
    {
     "name": "stdout",
     "output_type": "stream",
     "text": [
      "<class 'pandas.core.frame.DataFrame'>\n",
      "RangeIndex: 425 entries, 0 to 424\n",
      "Data columns (total 13 columns):\n",
      "Time                       425 non-null datetime64[ns, UTC]\n",
      "air_temperature            425 non-null float64\n",
      "barometric_pressure_qfe    425 non-null float64\n",
      "dew_point                  425 non-null float64\n",
      "global_radiation           425 non-null int64\n",
      "humidity                   425 non-null int64\n",
      "precipitation              425 non-null int64\n",
      "water_temperature          425 non-null float64\n",
      "wind_direction             425 non-null int64\n",
      "wind_force_avg_10min       425 non-null int64\n",
      "wind_gust_max_10min        425 non-null float64\n",
      "wind_speed_avg_10min       425 non-null float64\n",
      "windchill                  425 non-null float64\n",
      "dtypes: datetime64[ns, UTC](1), float64(7), int64(5)\n",
      "memory usage: 43.3 KB\n"
     ]
    }
   ],
   "source": [
    "mythenquai_3d.info()"
   ]
  },
  {
   "cell_type": "code",
   "execution_count": 24,
   "metadata": {},
   "outputs": [
    {
     "data": {
      "text/plain": [
       "<function matplotlib.pyplot.show(*args, **kw)>"
      ]
     },
     "execution_count": 24,
     "metadata": {},
     "output_type": "execute_result"
    },
    {
     "data": {
      "image/png": "[encoded data removed]",
      "text/plain": [
       "<Figure size 432x288 with 1 Axes>"
      ]
     },
     "metadata": {},
     "output_type": "display_data"
    }
   ],
   "source": [
    "sns.lineplot(x = mythenquai_3d[\"Time\"], y = mythenquai_3d[\"air_temperature\"]  ,data = mythenquai_3d )\n",
    "plt.title(\"Temperatur letzte 3 Tage\")\n",
    "plt.show"
   ]
  },
  {
   "cell_type": "markdown",
   "metadata": {},
   "source": [
    "Vorhersage der Temperatur anhand der Temperaturverteilung der letzten 3 Tage. Beispiel: Wahrscheinlichkeit fast 40 %, dass Temperatur 4° wird."
   ]
  },
  {
   "cell_type": "code",
   "execution_count": 16,
   "metadata": {},
   "outputs": [
    {
     "data": {
      "text/plain": [
       "<matplotlib.axes._subplots.AxesSubplot at 0x1a39bd41c48>"
      ]
     },
     "execution_count": 16,
     "metadata": {},
     "output_type": "execute_result"
    },
    {
     "data": {
      "image/png": "[encoded data removed]",
      "text/plain": [
       "<Figure size 432x288 with 1 Axes>"
      ]
     },
     "metadata": {},
     "output_type": "display_data"
    }
   ],
   "source": [
    "sns.distplot(mythenquai_3d[\"air_temperature\"])"
   ]
  },
  {
   "cell_type": "code",
   "execution_count": 17,
   "metadata": {},
   "outputs": [
    {
     "data": {
      "text/plain": [
       "<matplotlib.axes._subplots.AxesSubplot at 0x1a39bf14dc8>"
      ]
     },
     "execution_count": 17,
     "metadata": {},
     "output_type": "execute_result"
    },
    {
     "data": {
      "image/png": "[encoded data removed]",
      "text/plain": [
       "<Figure size 432x288 with 1 Axes>"
      ]
     },
     "metadata": {},
     "output_type": "display_data"
    }
   ],
   "source": [
    "sns.distplot(mythenquai_3d[\"wind_speed_avg_10min\"])"
   ]
  },
  {
   "cell_type": "markdown",
   "metadata": {},
   "source": [
    "#### Berechnung Mean, Min, Max aller Tage vom letzten Jahr"
   ]
  },
  {
   "cell_type": "markdown",
   "metadata": {},
   "source": [
    "Neuer Datensatz erstellen mit maximaler und minimaler Temperatur und rollenden Mittelwerts jedes Tages."
   ]
  },
  {
   "cell_type": "code",
   "execution_count": 18,
   "metadata": {},
   "outputs": [],
   "source": [
    "## Funcs ####\n",
    "def df_triple_m(df, column2modify):\n",
    "    \"\"\"Creates a new Dataframe by grouping a year in days and store MIN, MAX, MEAN per day as new column.\n",
    "    Exp. df = dataframe, column2modify = (\"column_name\") calculation will be done on this column\"\"\"\n",
    "    df_mean = df.resample('d').mean().rename(columns = {column2modify:\"mean\"})\n",
    "    df_max = df.resample('d').max().rename(columns = {column2modify:\"max\"})\n",
    "    df_min = df.resample('d').min().rename(columns = {column2modify:\"min\"})\n",
    "    df_mean[\"max\"], df_mean[\"min\"]  = df_max[\"max\"], df_min[\"min\"]\n",
    "    \n",
    "    return df_mean\n",
    "    \n",
    "    #tb_1y_max = tb_1y.resample('d').max().drop(columns = [\"wind_force_avg_10min\"]).rename(columns = {\"air_temperature\":\"air_temp_max\"})\n",
    "    #tb_1y_min = tb_1y.resample('d').min().drop(columns = [\"wind_force_avg_10min\"]).rename(columns = {\"air_temperature\":\"air_temp_min\"})\n",
    "    "
   ]
  },
  {
   "cell_type": "code",
   "execution_count": 19,
   "metadata": {},
   "outputs": [
    {
     "ename": "NameError",
     "evalue": "name 'tb_1y_temp' is not defined",
     "output_type": "error",
     "traceback": [
      "\u001b[1;31m---------------------------------------------------------------------------\u001b[0m",
      "\u001b[1;31mNameError\u001b[0m                                 Traceback (most recent call last)",
      "\u001b[1;32m<ipython-input-19-23e729a8b8bf>\u001b[0m in \u001b[0;36m<module>\u001b[1;34m\u001b[0m\n\u001b[1;32m----> 1\u001b[1;33m \u001b[0mtb_model\u001b[0m \u001b[1;33m=\u001b[0m \u001b[0mdf_triple_m\u001b[0m\u001b[1;33m(\u001b[0m\u001b[0mtb_1y_temp\u001b[0m\u001b[1;33m,\u001b[0m \u001b[1;34m\"air_temperature\"\u001b[0m\u001b[1;33m)\u001b[0m\u001b[1;33m\u001b[0m\u001b[1;33m\u001b[0m\u001b[0m\n\u001b[0m\u001b[0;32m      2\u001b[0m \u001b[0mtb_model\u001b[0m\u001b[1;33m\u001b[0m\u001b[1;33m\u001b[0m\u001b[0m\n",
      "\u001b[1;31mNameError\u001b[0m: name 'tb_1y_temp' is not defined"
     ]
    }
   ],
   "source": [
    "tb_model = df_triple_m(tb_1y_temp, \"air_temperature\")\n",
    "tb_model"
   ]
  },
  {
   "cell_type": "markdown",
   "metadata": {},
   "source": [
    "### Prognose"
   ]
  },
  {
   "cell_type": "markdown",
   "metadata": {},
   "source": [
    "Vorhersage mit einem rollenden Mittelwert vom selben Tag in den letzten 3 Jahren. Mit Angabe eines Konfidenzintervalls, sprich wie sicher ist eine Prognose.\n",
    "(Marcel Steiner)\n",
    "\n",
    "- Abfrage der letzten 3 Jahre vom selben Tag von nächsten drei Stunden ab Zeitpunkt jetzt\n",
    "- Mittelwert berechnen\n",
    "- Konfidenzintervall berechnen\n",
    "- Voraussage machen"
   ]
  },
  {
   "cell_type": "code",
   "execution_count": 75,
   "metadata": {},
   "outputs": [],
   "source": [
    "mq_3y, tb_3y = select_timedelta(1, 3*365)    "
   ]
  },
  {
   "cell_type": "code",
   "execution_count": 78,
   "metadata": {},
   "outputs": [
    {
     "name": "stdout",
     "output_type": "stream",
     "text": [
      "<class 'pandas.core.frame.DataFrame'>\n",
      "DatetimeIndex: 157249 entries, 2016-12-16 12:20:00+00:00 to 2019-12-15 12:10:00+00:00\n",
      "Data columns (total 10 columns):\n",
      "air_temperature            157249 non-null float64\n",
      "barometric_pressure_qfe    157249 non-null float64\n",
      "dew_point                  157249 non-null float64\n",
      "humidity                   157249 non-null int64\n",
      "water_temperature          157249 non-null float64\n",
      "wind_direction             157249 non-null int64\n",
      "wind_force_avg_10min       157249 non-null float64\n",
      "wind_gust_max_10min        157249 non-null float64\n",
      "wind_speed_avg_10min       157249 non-null float64\n",
      "windchill                  157249 non-null float64\n",
      "dtypes: float64(8), int64(2)\n",
      "memory usage: 13.2 MB\n"
     ]
    }
   ],
   "source": [
    "def filter_days():\n",
    "    \"\"\"Filters days\n",
    "    \"\"\"\n",
    "    "
   ]
  },
  {
   "cell_type": "markdown",
   "metadata": {},
   "source": [
    "Vorhersage mit der Temperaturverteilung der letzten 3 Tage (ohne Nacht), dann anhand Verteilung kann meist vorkommende Temperatur gewählt werden zur Vorhersage\n",
    "\n",
    "- Abfrage der letzten drei Tage, Daten filtern nach nur Temperaturen am Tag\n",
    "- Meist vorkommender Wert als Prediction für Folgetag ausgeben\n",
    "- Konfidenzintervall berechnen\n",
    "- Voraussage machen\n"
   ]
  },
  {
   "cell_type": "code",
   "execution_count": null,
   "metadata": {},
   "outputs": [],
   "source": []
  },
  {
   "cell_type": "markdown",
   "metadata": {},
   "source": [
    "Variante von Roman Studer mit dem Vergleichen der Daten von den letzten Jahren und Suchen nach passenden Verteilungen."
   ]
  },
  {
   "cell_type": "code",
   "execution_count": null,
   "metadata": {},
   "outputs": [],
   "source": []
  },
  {
   "cell_type": "markdown",
   "metadata": {},
   "source": [
    "Variante eines RandomForests oder Fourier Reihe\n",
    "\n",
    "- Zum Probieren"
   ]
  },
  {
   "cell_type": "code",
   "execution_count": null,
   "metadata": {},
   "outputs": [],
   "source": []
  }
 ],
 "metadata": {
  "kernelspec": {
   "display_name": "Python 3",
   "language": "python",
   "name": "python3"
  },
  "language_info": {
   "codemirror_mode": {
    "name": "ipython",
    "version": 3
   },
   "file_extension": ".py",
   "mimetype": "text/x-python",
   "name": "python",
   "nbconvert_exporter": "python",
   "pygments_lexer": "ipython3",
   "version": "3.7.4"
  }
 },
 "nbformat": 4,
 "nbformat_minor": 2
}
