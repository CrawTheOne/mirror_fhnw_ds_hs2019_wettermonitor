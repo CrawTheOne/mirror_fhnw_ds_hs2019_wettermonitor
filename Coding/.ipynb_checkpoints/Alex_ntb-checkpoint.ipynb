{
 "cells": [
  {
   "cell_type": "markdown",
   "metadata": {},
   "source": [
    "Alex Notebook"
   ]
  },
  {
   "cell_type": "markdown",
   "metadata": {},
   "source": [
    "Import modules"
   ]
  },
  {
   "cell_type": "code",
   "execution_count": 1,
   "metadata": {
    "pycharm": {
     "is_executing": false,
     "name": "#%%\n"
    }
   },
   "outputs": [
    {
     "name": "stdout",
     "output_type": "stream",
     "text": [
      "localhost:8086\n"
     ]
    }
   ],
   "source": [
    "# import the modules\n",
    "import pandas as pd\n",
    "from influxdb import DataFrameClient, InfluxDBClient\n",
    "import pytz\n",
    "#add pandas version control 0.24\n",
    "\n",
    "import config"
   ]
  },
  {
   "cell_type": "markdown",
   "metadata": {},
   "source": [
    "Data exploration"
   ]
  },
  {
   "cell_type": "code",
   "execution_count": 3,
   "metadata": {
    "pycharm": {
     "is_executing": false
    }
   },
   "outputs": [
    {
     "name": "stdout",
     "output_type": "stream",
     "text": [
      "<class 'pandas.core.frame.DataFrame'>\n",
      "DatetimeIndex: 8301 entries, 2019-10-01 00:00:00+00:00 to 2019-11-28 00:00:00+00:00\n",
      "Data columns (total 12 columns):\n",
      "air_temperature            8301 non-null float64\n",
      "barometric_pressure_qfe    8301 non-null float64\n",
      "dew_point                  8301 non-null float64\n",
      "global_radiation           8301 non-null int64\n",
      "humidity                   8301 non-null int64\n",
      "precipitation              8301 non-null int64\n",
      "water_temperature          8301 non-null float64\n",
      "wind_direction             8301 non-null int64\n",
      "wind_force_avg_10min       8301 non-null int64\n",
      "wind_gust_max_10min        8301 non-null float64\n",
      "wind_speed_avg_10min       8301 non-null float64\n",
      "windchill                  8301 non-null float64\n",
      "dtypes: float64(7), int64(5)\n",
      "memory usage: 843.1 KB\n",
      "<class 'pandas.core.frame.DataFrame'>\n",
      "DatetimeIndex: 8345 entries, 2019-10-01 00:00:00+00:00 to 2019-11-28 00:00:00+00:00\n",
      "Data columns (total 10 columns):\n",
      "air_temperature            8345 non-null float64\n",
      "barometric_pressure_qfe    8345 non-null float64\n",
      "dew_point                  8345 non-null float64\n",
      "humidity                   8345 non-null int64\n",
      "water_temperature          8345 non-null float64\n",
      "wind_direction             8345 non-null int64\n",
      "wind_force_avg_10min       8345 non-null int64\n",
      "wind_gust_max_10min        8345 non-null float64\n",
      "wind_speed_avg_10min       8345 non-null float64\n",
      "windchill                  8345 non-null float64\n",
      "dtypes: float64(7), int64(3)\n",
      "memory usage: 717.1 KB\n"
     ]
    },
    {
     "data": {
      "text/plain": [
       "[{'name': '_internal'}, {'name': 'dbname'}, {'name': 'meteorology'}]"
      ]
     },
     "execution_count": 3,
     "metadata": {},
     "output_type": "execute_result"
    }
   ],
   "source": [
    "client = DataFrameClient(host = config.DB_HOST, port = config.DB_PORT, database = config.DB_DBNAME)\n",
    "\n",
    "start_time = '2019-10-01T00:00:00+00:00'\n",
    "end_time = '2019-11-28T00:00:00+00:00'\n",
    "\n",
    "client = DataFrameClient(host = config.DB_HOST, port = config.DB_PORT, database = config.DB_DBNAME)\n",
    "\n",
    "# InfluQL Query  (to be added: timezone adjusting)\n",
    "query = \"SELECT * FROM \\\"{}\\\",\\\"{}\\\" WHERE time >= '{}' AND time <= '{}' \"\\\n",
    "    .format(config.stations[0], config.stations[1], start_time, end_time)\n",
    "\n",
    "df_air_temp = client.query(query)\n",
    "\n",
    "# to create pandas df, use only one dicitonary part (mythenquai, tiefenbrunnen)\n",
    "mythenquai_nov_dez = pd.DataFrame(df_air_temp[config.stations[0]])\n",
    "mythenquai_nov_dez.info()\n",
    "\n",
    "tiefenbrunnen_nov_dez = pd.DataFrame(df_air_temp[config.stations[1]])\n",
    "tiefenbrunnen_nov_dez.info()\n",
    "\n",
    "#client.switch_database(config.DB_DBNAME)\n",
    "#query = \"SELECT COUNT(air_temperature) FROM \\\"{}\\\",\\\"{}\\\" tz('Europe/Zurich')\".format(config.stations[0], config.stations[1])\n",
    "#result = client.query(query)\n",
    "#print(result[config.stations[0]])\n",
    "#print(result[config.stations[1]])\n"
   ]
  }
 ],
 "metadata": {
  "kernelspec": {
   "display_name": "Python 3",
   "language": "python",
   "name": "python3"
  },
  "language_info": {
   "codemirror_mode": {
    "name": "ipython",
    "version": 3
   },
   "file_extension": ".py",
   "mimetype": "text/x-python",
   "name": "python",
   "nbconvert_exporter": "python",
   "pygments_lexer": "ipython3",
   "version": "3.7.3"
  },
  "pycharm": {
   "stem_cell": {
    "cell_type": "raw",
    "metadata": {
     "collapsed": false
    },
    "source": []
   }
  }
 },
 "nbformat": 4,
 "nbformat_minor": 2
}
