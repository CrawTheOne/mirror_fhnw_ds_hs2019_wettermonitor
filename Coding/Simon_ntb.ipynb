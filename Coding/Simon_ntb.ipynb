{
 "cells": [
  {
   "cell_type": "markdown",
   "metadata": {},
   "source": [
    "### Simon's Exploratory Data Analysis"
   ]
  },
  {
   "cell_type": "markdown",
   "metadata": {},
   "source": [
    "#### Import Packages"
   ]
  },
  {
   "cell_type": "code",
   "execution_count": 1,
   "metadata": {},
   "outputs": [
    {
     "name": "stdout",
     "output_type": "stream",
     "text": [
      "localhost:8086\n"
     ]
    }
   ],
   "source": [
    "import pandas as pd\n",
    "from influxdb import DataFrameClient, InfluxDBClient\n",
    "import pytz\n",
    "import config\n",
    "import seaborn as sns\n",
    "import datetime"
   ]
  },
  {
   "cell_type": "markdown",
   "metadata": {},
   "source": [
    "#### Define DataFrameClient from Pandas"
   ]
  },
  {
   "cell_type": "code",
   "execution_count": 2,
   "metadata": {},
   "outputs": [],
   "source": [
    "client = DataFrameClient(host = config.DB_HOST, port = config.DB_PORT, database = config.DB_DBNAME)"
   ]
  },
  {
   "cell_type": "markdown",
   "metadata": {},
   "source": [
    "#### Query Data from InfluxDB"
   ]
  },
  {
   "cell_type": "code",
   "execution_count": 4,
   "metadata": {},
   "outputs": [
    {
     "data": {
      "text/html": [
       "<div>\n",
       "<style scoped>\n",
       "    .dataframe tbody tr th:only-of-type {\n",
       "        vertical-align: middle;\n",
       "    }\n",
       "\n",
       "    .dataframe tbody tr th {\n",
       "        vertical-align: top;\n",
       "    }\n",
       "\n",
       "    .dataframe thead th {\n",
       "        text-align: right;\n",
       "    }\n",
       "</style>\n",
       "<table border=\"1\" class=\"dataframe\">\n",
       "  <thead>\n",
       "    <tr style=\"text-align: right;\">\n",
       "      <th></th>\n",
       "      <th>air_temperature</th>\n",
       "      <th>barometric_pressure_qfe</th>\n",
       "      <th>dew_point</th>\n",
       "      <th>humidity</th>\n",
       "      <th>water_temperature</th>\n",
       "      <th>wind_direction</th>\n",
       "      <th>wind_force_avg_10min</th>\n",
       "      <th>wind_gust_max_10min</th>\n",
       "      <th>wind_speed_avg_10min</th>\n",
       "      <th>windchill</th>\n",
       "    </tr>\n",
       "  </thead>\n",
       "  <tbody>\n",
       "    <tr>\n",
       "      <td>2018-11-29 17:20:00+00:00</td>\n",
       "      <td>6.0</td>\n",
       "      <td>969.4</td>\n",
       "      <td>4.5</td>\n",
       "      <td>90</td>\n",
       "      <td>9.5</td>\n",
       "      <td>294</td>\n",
       "      <td>1.4</td>\n",
       "      <td>1.9</td>\n",
       "      <td>1.4</td>\n",
       "      <td>6.0</td>\n",
       "    </tr>\n",
       "    <tr>\n",
       "      <td>2018-11-29 17:30:00+00:00</td>\n",
       "      <td>5.9</td>\n",
       "      <td>969.3</td>\n",
       "      <td>4.4</td>\n",
       "      <td>90</td>\n",
       "      <td>9.5</td>\n",
       "      <td>295</td>\n",
       "      <td>1.0</td>\n",
       "      <td>1.5</td>\n",
       "      <td>1.0</td>\n",
       "      <td>5.9</td>\n",
       "    </tr>\n",
       "    <tr>\n",
       "      <td>2018-11-29 17:40:00+00:00</td>\n",
       "      <td>5.8</td>\n",
       "      <td>969.3</td>\n",
       "      <td>4.3</td>\n",
       "      <td>90</td>\n",
       "      <td>9.5</td>\n",
       "      <td>299</td>\n",
       "      <td>0.9</td>\n",
       "      <td>1.7</td>\n",
       "      <td>0.9</td>\n",
       "      <td>5.8</td>\n",
       "    </tr>\n",
       "    <tr>\n",
       "      <td>2018-11-29 17:50:00+00:00</td>\n",
       "      <td>5.8</td>\n",
       "      <td>969.3</td>\n",
       "      <td>4.3</td>\n",
       "      <td>90</td>\n",
       "      <td>9.5</td>\n",
       "      <td>297</td>\n",
       "      <td>0.7</td>\n",
       "      <td>1.3</td>\n",
       "      <td>0.7</td>\n",
       "      <td>5.8</td>\n",
       "    </tr>\n",
       "    <tr>\n",
       "      <td>2018-11-29 18:00:00+00:00</td>\n",
       "      <td>5.8</td>\n",
       "      <td>969.4</td>\n",
       "      <td>4.4</td>\n",
       "      <td>91</td>\n",
       "      <td>9.5</td>\n",
       "      <td>296</td>\n",
       "      <td>0.6</td>\n",
       "      <td>1.2</td>\n",
       "      <td>0.6</td>\n",
       "      <td>5.8</td>\n",
       "    </tr>\n",
       "  </tbody>\n",
       "</table>\n",
       "</div>"
      ],
      "text/plain": [
       "                           air_temperature  barometric_pressure_qfe  \\\n",
       "2018-11-29 17:20:00+00:00              6.0                    969.4   \n",
       "2018-11-29 17:30:00+00:00              5.9                    969.3   \n",
       "2018-11-29 17:40:00+00:00              5.8                    969.3   \n",
       "2018-11-29 17:50:00+00:00              5.8                    969.3   \n",
       "2018-11-29 18:00:00+00:00              5.8                    969.4   \n",
       "\n",
       "                           dew_point  humidity  water_temperature  \\\n",
       "2018-11-29 17:20:00+00:00        4.5        90                9.5   \n",
       "2018-11-29 17:30:00+00:00        4.4        90                9.5   \n",
       "2018-11-29 17:40:00+00:00        4.3        90                9.5   \n",
       "2018-11-29 17:50:00+00:00        4.3        90                9.5   \n",
       "2018-11-29 18:00:00+00:00        4.4        91                9.5   \n",
       "\n",
       "                           wind_direction  wind_force_avg_10min  \\\n",
       "2018-11-29 17:20:00+00:00             294                   1.4   \n",
       "2018-11-29 17:30:00+00:00             295                   1.0   \n",
       "2018-11-29 17:40:00+00:00             299                   0.9   \n",
       "2018-11-29 17:50:00+00:00             297                   0.7   \n",
       "2018-11-29 18:00:00+00:00             296                   0.6   \n",
       "\n",
       "                           wind_gust_max_10min  wind_speed_avg_10min  \\\n",
       "2018-11-29 17:20:00+00:00                  1.9                   1.4   \n",
       "2018-11-29 17:30:00+00:00                  1.5                   1.0   \n",
       "2018-11-29 17:40:00+00:00                  1.7                   0.9   \n",
       "2018-11-29 17:50:00+00:00                  1.3                   0.7   \n",
       "2018-11-29 18:00:00+00:00                  1.2                   0.6   \n",
       "\n",
       "                           windchill  \n",
       "2018-11-29 17:20:00+00:00        6.0  \n",
       "2018-11-29 17:30:00+00:00        5.9  \n",
       "2018-11-29 17:40:00+00:00        5.8  \n",
       "2018-11-29 17:50:00+00:00        5.8  \n",
       "2018-11-29 18:00:00+00:00        5.8  "
      ]
     },
     "execution_count": 4,
     "metadata": {},
     "output_type": "execute_result"
    }
   ],
   "source": [
    "#Set time relative to now for Query (today: 00:00:00)\n",
    "now = datetime.datetime.today()\n",
    "past = now - datetime.timedelta(days = config.days_delta)\n",
    "\n",
    "#Set start and end time\n",
    "end_time = now.strftime(\"%Y-%m-%d %H:%M:%S\")\n",
    "start_time = past.strftime(\"%Y-%m-%d %H:%M:%S\")\n",
    "\n",
    "# NoSQL Query  (to be added: timezone adjusting)\n",
    "query = \"SELECT * FROM \\\"{}\\\",\\\"{}\\\" WHERE time >= '{}' AND time <= '{}' \"\\\n",
    "                        .format(config.stations[0], config.stations[1], start_time, end_time)\n",
    "\n",
    "df_temp = client.query(query)\n",
    "\n",
    "# to create pandas df, use only one dicitonary part (mythenquai, tiefenbrunnen)\n",
    "mythenquai_1y = pd.DataFrame(df_temp['mythenquai'])\n",
    "mythenquai_1y.head()\n",
    "tiefenbrunnen_1y = pd.DataFrame(df_temp['tiefenbrunnen'])\n",
    "tiefenbrunnen_1y.head()"
   ]
  },
  {
   "cell_type": "code",
   "execution_count": null,
   "metadata": {},
   "outputs": [],
   "source": []
  }
 ],
 "metadata": {
  "kernelspec": {
   "display_name": "Python 3",
   "language": "python",
   "name": "python3"
  },
  "language_info": {
   "codemirror_mode": {
    "name": "ipython",
    "version": 3
   },
   "file_extension": ".py",
   "mimetype": "text/x-python",
   "name": "python",
   "nbconvert_exporter": "python",
   "pygments_lexer": "ipython3",
   "version": "3.7.4"
  }
 },
 "nbformat": 4,
 "nbformat_minor": 2
}
