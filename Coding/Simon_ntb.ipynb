{
 "cells": [
  {
   "cell_type": "markdown",
   "metadata": {},
   "source": [
    "## Explorative Datenanalyse und Wahrscheinlichkeitsrechnen"
   ]
  },
  {
   "cell_type": "markdown",
   "metadata": {},
   "source": [
    "#### Import Packages"
   ]
  },
  {
   "cell_type": "code",
   "execution_count": 4,
   "metadata": {},
   "outputs": [],
   "source": [
    "import config as cfg\n",
    "\n",
    "import pandas as pd\n",
    "from influxdb import DataFrameClient, InfluxDBClient\n",
    "import pytz\n",
    "import seaborn as sns\n",
    "import datetime\n",
    "import matplotlib.pyplot as plt\n",
    "import numpy as np\n",
    "from fhnw_ds_hs2019_weatherstation_api import data_import as weather\n",
    "import DB_Fill"
   ]
  },
  {
   "cell_type": "code",
   "execution_count": 5,
   "metadata": {},
   "outputs": [],
   "source": [
    "client = DataFrameClient(host = cfg.DB_HOST, port = cfg.DB_PORT, database = cfg.DB_DBNAME)"
   ]
  },
  {
   "cell_type": "markdown",
   "metadata": {},
   "source": [
    "#### Formulas"
   ]
  },
  {
   "cell_type": "code",
   "execution_count": 6,
   "metadata": {},
   "outputs": [],
   "source": [
    "def rowindex_as_col(df):\n",
    "    \"\"\"add row index(time) to new column. df = dataframe, name_col = new column name\"\"\"\n",
    "    df.index.name = \"Time\"\n",
    "    df = df.reset_index(inplace=False)\n",
    "    df = pd.DataFrame(df)\n",
    "    return df\n",
    "\n",
    "def appropriate_dtypes(df, column_name, result_dtype ):\n",
    "    \"\"\"Datentypen ändern\"\"\"\n",
    "    df = df.astype({column_name: result_dtype})\n",
    "    return df\n",
    "    "
   ]
  },
  {
   "cell_type": "code",
   "execution_count": 7,
   "metadata": {},
   "outputs": [],
   "source": [
    "def select_timedelta(time_offset_days,  time_delta_in_days):\n",
    "    \"\"\"Make a Select Statement on pass over to new df a certain timedelta from NOW .\n",
    "    double_output!: Output1, Output2 = func() /\n",
    "    example: time_delta_in_days = 365\n",
    "    Inputs: time_offset_days = 0, time_delta_in_days = 365\n",
    "    \"\"\"\n",
    "    #Set time relative to now for Query (today: 00:00:00)\n",
    "    now = datetime.datetime.today()\n",
    "    start = now - datetime.timedelta(days = time_offset_days)\n",
    "    past = now - datetime.timedelta(days = time_delta_in_days)\n",
    "\n",
    "    #Set start and end time\n",
    "    end_time = start.strftime(\"%Y-%m-%d %H:%M:%S\")\n",
    "    start_time = past.strftime(\"%Y-%m-%d %H:%M:%S\")\n",
    "\n",
    "    # NoSQL Query  (to be added: timezone adjusting)\n",
    "    query = \"SELECT * FROM \\\"{}\\\",\\\"{}\\\" WHERE time >= '{}' AND time <= '{}' \"\\\n",
    "                        .format(cfg.stations[0], cfg.stations[1], start_time, end_time)\n",
    "    df_temp = client.query(query)\n",
    "\n",
    "    # to create pandas df, use only one dicitonary part (mythenquai, tiefenbrunnen)\n",
    "    df_mythenquai = pd.DataFrame(df_temp['mythenquai'])\n",
    "    df_tiefenbrunnen = pd.DataFrame(df_temp['tiefenbrunnen'])\n",
    "    \n",
    "    return df_mythenquai, df_tiefenbrunnen\n",
    "\n",
    "\n",
    "def get_latest_data():\n",
    "    \"\"\"Make a Select Statement on pass over to new df a certain timedelta from NOW / double_output!: Output1, Output2 = func() /\n",
    "    example: time_delta_in_days = 10\n",
    "    Inputs: time_offset_days = 0, time_delta_in_days = 365\n",
    "    \"\"\"\n",
    "    \n",
    "    # NoSQL Query  (to be added: timezone adjusting)\n",
    "    query1 = \"SELECT LAST(*) from {},{}\".format(cfg.stations[0], cfg.stations[1])\n",
    "    \n",
    "    df_temp = client.query(query1)\n",
    "\n",
    "    # to create pandas df, use only one dicitonary part (mythenquai, tiefenbrunnen)\n",
    "    df_mythenquai = pd.DataFrame(df_temp['mythenquai'])\n",
    "    df_tiefenbrunnen = pd.DataFrame(df_temp['tiefenbrunnen'])\n",
    "    \n",
    "    df_mythenquai = df_mythenquai.iloc[:,[0,1,2,4]]\n",
    "    df_tiefenbrunnen = df_tiefenbrunnen.iloc[:,4]\n",
    "    \n",
    "    df_adapt = pd.concat([df_mythenquai, df_tiefenbrunnen], axis = 1)\n",
    "    df_adapt.columns = [\"Lufttemperatur\", \"Luftdruck\", \"Taupunkt\", \"Luftfeuchtigkeit\", \"Wassertemperatur\"]\n",
    "    df_adapt = df_adapt.reset_index(drop = True)\n",
    "    df_adapt = df_adapt.T\n",
    "    df_adapt = df_adapt\n",
    "    \n",
    "    return  df_adapt\n"
   ]
  },
  {
   "cell_type": "code",
   "execution_count": 8,
   "metadata": {},
   "outputs": [
    {
     "data": {
      "text/html": [
       "<div>\n",
       "<style scoped>\n",
       "    .dataframe tbody tr th:only-of-type {\n",
       "        vertical-align: middle;\n",
       "    }\n",
       "\n",
       "    .dataframe tbody tr th {\n",
       "        vertical-align: top;\n",
       "    }\n",
       "\n",
       "    .dataframe thead th {\n",
       "        text-align: right;\n",
       "    }\n",
       "</style>\n",
       "<table border=\"1\" class=\"dataframe\">\n",
       "  <thead>\n",
       "    <tr style=\"text-align: right;\">\n",
       "      <th></th>\n",
       "      <th>air_temperature</th>\n",
       "      <th>barometric_pressure_qfe</th>\n",
       "      <th>dew_point</th>\n",
       "      <th>global_radiation</th>\n",
       "      <th>humidity</th>\n",
       "      <th>precipitation</th>\n",
       "      <th>water_temperature</th>\n",
       "      <th>wind_direction</th>\n",
       "      <th>wind_force_avg_10min</th>\n",
       "      <th>wind_gust_max_10min</th>\n",
       "      <th>wind_speed_avg_10min</th>\n",
       "      <th>windchill</th>\n",
       "    </tr>\n",
       "  </thead>\n",
       "  <tbody>\n",
       "    <tr>\n",
       "      <th>2019-12-25 08:30:00+00:00</th>\n",
       "      <td>8.1</td>\n",
       "      <td>972.3</td>\n",
       "      <td>3.5</td>\n",
       "      <td>31</td>\n",
       "      <td>73</td>\n",
       "      <td>0</td>\n",
       "      <td>7.3</td>\n",
       "      <td>271</td>\n",
       "      <td>3</td>\n",
       "      <td>13.7</td>\n",
       "      <td>4.9</td>\n",
       "      <td>3.5</td>\n",
       "    </tr>\n",
       "    <tr>\n",
       "      <th>2019-12-25 08:40:00+00:00</th>\n",
       "      <td>8.1</td>\n",
       "      <td>972.4</td>\n",
       "      <td>3.5</td>\n",
       "      <td>55</td>\n",
       "      <td>73</td>\n",
       "      <td>0</td>\n",
       "      <td>7.3</td>\n",
       "      <td>275</td>\n",
       "      <td>4</td>\n",
       "      <td>12.6</td>\n",
       "      <td>5.6</td>\n",
       "      <td>2.5</td>\n",
       "    </tr>\n",
       "    <tr>\n",
       "      <th>2019-12-25 08:50:00+00:00</th>\n",
       "      <td>8.1</td>\n",
       "      <td>972.5</td>\n",
       "      <td>3.5</td>\n",
       "      <td>34</td>\n",
       "      <td>73</td>\n",
       "      <td>0</td>\n",
       "      <td>7.3</td>\n",
       "      <td>272</td>\n",
       "      <td>3</td>\n",
       "      <td>10.7</td>\n",
       "      <td>5.1</td>\n",
       "      <td>2.5</td>\n",
       "    </tr>\n",
       "  </tbody>\n",
       "</table>\n",
       "</div>"
      ],
      "text/plain": [
       "                           air_temperature  barometric_pressure_qfe  \\\n",
       "2019-12-25 08:30:00+00:00              8.1                    972.3   \n",
       "2019-12-25 08:40:00+00:00              8.1                    972.4   \n",
       "2019-12-25 08:50:00+00:00              8.1                    972.5   \n",
       "\n",
       "                           dew_point  global_radiation  humidity  \\\n",
       "2019-12-25 08:30:00+00:00        3.5                31        73   \n",
       "2019-12-25 08:40:00+00:00        3.5                55        73   \n",
       "2019-12-25 08:50:00+00:00        3.5                34        73   \n",
       "\n",
       "                           precipitation  water_temperature  wind_direction  \\\n",
       "2019-12-25 08:30:00+00:00              0                7.3             271   \n",
       "2019-12-25 08:40:00+00:00              0                7.3             275   \n",
       "2019-12-25 08:50:00+00:00              0                7.3             272   \n",
       "\n",
       "                           wind_force_avg_10min  wind_gust_max_10min  \\\n",
       "2019-12-25 08:30:00+00:00                     3                 13.7   \n",
       "2019-12-25 08:40:00+00:00                     4                 12.6   \n",
       "2019-12-25 08:50:00+00:00                     3                 10.7   \n",
       "\n",
       "                           wind_speed_avg_10min  windchill  \n",
       "2019-12-25 08:30:00+00:00                   4.9        3.5  \n",
       "2019-12-25 08:40:00+00:00                   5.6        2.5  \n",
       "2019-12-25 08:50:00+00:00                   5.1        2.5  "
      ]
     },
     "execution_count": 8,
     "metadata": {},
     "output_type": "execute_result"
    }
   ],
   "source": [
    "df1, df2  = select_timedelta(1, 10)\n",
    "df1.head(3)"
   ]
  },
  {
   "cell_type": "markdown",
   "metadata": {},
   "source": [
    "#### Sind Daten von Mythenquai und Tiefenbrunnen unterschiedlich?"
   ]
  },
  {
   "cell_type": "code",
   "execution_count": 9,
   "metadata": {},
   "outputs": [
    {
     "data": {
      "text/plain": [
       "False"
      ]
     },
     "execution_count": 9,
     "metadata": {},
     "output_type": "execute_result"
    }
   ],
   "source": [
    "df1.equals(df2)"
   ]
  },
  {
   "cell_type": "code",
   "execution_count": 10,
   "metadata": {},
   "outputs": [
    {
     "data": {
      "text/plain": [
       "air_temperature            0.986957\n",
       "barometric_pressure_qfe    0.999911\n",
       "dew_point                  0.987704\n",
       "global_radiation                NaN\n",
       "humidity                   0.922527\n",
       "precipitation                   NaN\n",
       "water_temperature          0.947232\n",
       "wind_direction             0.263736\n",
       "wind_force_avg_10min       0.530462\n",
       "wind_gust_max_10min        0.843229\n",
       "wind_speed_avg_10min       0.644613\n",
       "windchill                  0.836226\n",
       "dtype: float64"
      ]
     },
     "execution_count": 10,
     "metadata": {},
     "output_type": "execute_result"
    }
   ],
   "source": [
    "df1.corrwith(df2)"
   ]
  },
  {
   "cell_type": "markdown",
   "metadata": {},
   "source": [
    "Alle Daten ausser den Winddaten sehen sich ziemlich ähnlich. Es wäre somit sinnvoll die Winddaten für beide Stationen grafisch für die Segler darzustellen. Alle die anderen Daten mit einer Korrelation von über 90% können von einer Station übernommen werden."
   ]
  },
  {
   "cell_type": "markdown",
   "metadata": {},
   "source": [
    "#### Query Data from InfluxDB"
   ]
  },
  {
   "cell_type": "code",
   "execution_count": 11,
   "metadata": {
    "scrolled": true
   },
   "outputs": [],
   "source": [
    "mythenquai_1y, tiefenbrunnen_1y = select_timedelta(0, 100)"
   ]
  },
  {
   "cell_type": "markdown",
   "metadata": {},
   "source": [
    "#### Transform Data"
   ]
  },
  {
   "cell_type": "code",
   "execution_count": 18,
   "metadata": {
    "scrolled": true
   },
   "outputs": [],
   "source": [
    "mythenquai_1y = appropriate_dtypes(mythenquai_1y, \"humidity\" , np.int8)\n",
    "tiefenbrunnen_1y = appropriate_dtypes(tiefenbrunnen_1y, \"wind_direction\", np.int16)"
   ]
  },
  {
   "cell_type": "code",
   "execution_count": 19,
   "metadata": {},
   "outputs": [],
   "source": [
    "mythenquai_1y = appropriate_dtypes(mythenquai_1y, \"humidity\", np.int8)\n",
    "mythenquai_1y = appropriate_dtypes(mythenquai_1y,\"wind_direction\", np.int16 )"
   ]
  },
  {
   "cell_type": "markdown",
   "metadata": {},
   "source": [
    "### Exploratory Data Analysis"
   ]
  },
  {
   "cell_type": "markdown",
   "metadata": {},
   "source": [
    "Aesthetische Einstellungen:"
   ]
  },
  {
   "cell_type": "code",
   "execution_count": 20,
   "metadata": {},
   "outputs": [],
   "source": [
    "sns.set_style(\"darkgrid\")\n",
    "sns.set_palette(\"Paired\")"
   ]
  },
  {
   "cell_type": "code",
   "execution_count": 21,
   "metadata": {},
   "outputs": [
    {
     "data": {
      "text/html": [
       "<div>\n",
       "<style scoped>\n",
       "    .dataframe tbody tr th:only-of-type {\n",
       "        vertical-align: middle;\n",
       "    }\n",
       "\n",
       "    .dataframe tbody tr th {\n",
       "        vertical-align: top;\n",
       "    }\n",
       "\n",
       "    .dataframe thead th {\n",
       "        text-align: right;\n",
       "    }\n",
       "</style>\n",
       "<table border=\"1\" class=\"dataframe\">\n",
       "  <thead>\n",
       "    <tr style=\"text-align: right;\">\n",
       "      <th></th>\n",
       "      <th>air_temperature</th>\n",
       "      <th>barometric_pressure_qfe</th>\n",
       "      <th>dew_point</th>\n",
       "      <th>humidity</th>\n",
       "      <th>water_temperature</th>\n",
       "      <th>wind_direction</th>\n",
       "      <th>wind_force_avg_10min</th>\n",
       "      <th>wind_gust_max_10min</th>\n",
       "      <th>wind_speed_avg_10min</th>\n",
       "      <th>windchill</th>\n",
       "    </tr>\n",
       "  </thead>\n",
       "  <tbody>\n",
       "    <tr>\n",
       "      <th>count</th>\n",
       "      <td>14378.0</td>\n",
       "      <td>14378.0</td>\n",
       "      <td>14378.0</td>\n",
       "      <td>14378.0</td>\n",
       "      <td>14378.0</td>\n",
       "      <td>14378.0</td>\n",
       "      <td>14378.0</td>\n",
       "      <td>14378.0</td>\n",
       "      <td>14378.0</td>\n",
       "      <td>14378.0</td>\n",
       "    </tr>\n",
       "    <tr>\n",
       "      <th>mean</th>\n",
       "      <td>8.6</td>\n",
       "      <td>965.8</td>\n",
       "      <td>5.9</td>\n",
       "      <td>83.6</td>\n",
       "      <td>12.2</td>\n",
       "      <td>131.2</td>\n",
       "      <td>0.9</td>\n",
       "      <td>2.6</td>\n",
       "      <td>1.1</td>\n",
       "      <td>7.9</td>\n",
       "    </tr>\n",
       "    <tr>\n",
       "      <th>std</th>\n",
       "      <td>4.9</td>\n",
       "      <td>9.5</td>\n",
       "      <td>4.4</td>\n",
       "      <td>10.0</td>\n",
       "      <td>3.9</td>\n",
       "      <td>113.6</td>\n",
       "      <td>1.1</td>\n",
       "      <td>3.1</td>\n",
       "      <td>1.6</td>\n",
       "      <td>5.1</td>\n",
       "    </tr>\n",
       "    <tr>\n",
       "      <th>min</th>\n",
       "      <td>-1.7</td>\n",
       "      <td>934.2</td>\n",
       "      <td>-4.6</td>\n",
       "      <td>39.0</td>\n",
       "      <td>6.8</td>\n",
       "      <td>0.0</td>\n",
       "      <td>0.0</td>\n",
       "      <td>0.0</td>\n",
       "      <td>0.0</td>\n",
       "      <td>-4.0</td>\n",
       "    </tr>\n",
       "    <tr>\n",
       "      <th>25%</th>\n",
       "      <td>5.0</td>\n",
       "      <td>960.2</td>\n",
       "      <td>2.5</td>\n",
       "      <td>78.0</td>\n",
       "      <td>8.4</td>\n",
       "      <td>18.0</td>\n",
       "      <td>0.0</td>\n",
       "      <td>0.2</td>\n",
       "      <td>0.0</td>\n",
       "      <td>4.2</td>\n",
       "    </tr>\n",
       "    <tr>\n",
       "      <th>50%</th>\n",
       "      <td>8.1</td>\n",
       "      <td>966.8</td>\n",
       "      <td>5.4</td>\n",
       "      <td>85.0</td>\n",
       "      <td>11.8</td>\n",
       "      <td>119.0</td>\n",
       "      <td>1.0</td>\n",
       "      <td>1.7</td>\n",
       "      <td>0.4</td>\n",
       "      <td>7.2</td>\n",
       "    </tr>\n",
       "    <tr>\n",
       "      <th>75%</th>\n",
       "      <td>12.5</td>\n",
       "      <td>971.8</td>\n",
       "      <td>9.8</td>\n",
       "      <td>92.0</td>\n",
       "      <td>15.6</td>\n",
       "      <td>195.0</td>\n",
       "      <td>1.0</td>\n",
       "      <td>3.5</td>\n",
       "      <td>1.5</td>\n",
       "      <td>11.9</td>\n",
       "    </tr>\n",
       "    <tr>\n",
       "      <th>max</th>\n",
       "      <td>23.2</td>\n",
       "      <td>988.6</td>\n",
       "      <td>15.5</td>\n",
       "      <td>100.0</td>\n",
       "      <td>70.0</td>\n",
       "      <td>360.0</td>\n",
       "      <td>5.0</td>\n",
       "      <td>24.0</td>\n",
       "      <td>10.4</td>\n",
       "      <td>22.2</td>\n",
       "    </tr>\n",
       "  </tbody>\n",
       "</table>\n",
       "</div>"
      ],
      "text/plain": [
       "       air_temperature  barometric_pressure_qfe  dew_point  humidity  \\\n",
       "count          14378.0                  14378.0    14378.0   14378.0   \n",
       "mean               8.6                    965.8        5.9      83.6   \n",
       "std                4.9                      9.5        4.4      10.0   \n",
       "min               -1.7                    934.2       -4.6      39.0   \n",
       "25%                5.0                    960.2        2.5      78.0   \n",
       "50%                8.1                    966.8        5.4      85.0   \n",
       "75%               12.5                    971.8        9.8      92.0   \n",
       "max               23.2                    988.6       15.5     100.0   \n",
       "\n",
       "       water_temperature  wind_direction  wind_force_avg_10min  \\\n",
       "count            14378.0         14378.0               14378.0   \n",
       "mean                12.2           131.2                   0.9   \n",
       "std                  3.9           113.6                   1.1   \n",
       "min                  6.8             0.0                   0.0   \n",
       "25%                  8.4            18.0                   0.0   \n",
       "50%                 11.8           119.0                   1.0   \n",
       "75%                 15.6           195.0                   1.0   \n",
       "max                 70.0           360.0                   5.0   \n",
       "\n",
       "       wind_gust_max_10min  wind_speed_avg_10min  windchill  \n",
       "count              14378.0               14378.0    14378.0  \n",
       "mean                   2.6                   1.1        7.9  \n",
       "std                    3.1                   1.6        5.1  \n",
       "min                    0.0                   0.0       -4.0  \n",
       "25%                    0.2                   0.0        4.2  \n",
       "50%                    1.7                   0.4        7.2  \n",
       "75%                    3.5                   1.5       11.9  \n",
       "max                   24.0                  10.4       22.2  "
      ]
     },
     "execution_count": 21,
     "metadata": {},
     "output_type": "execute_result"
    }
   ],
   "source": [
    "round(tiefenbrunnen_1y.describe(),1)"
   ]
  },
  {
   "cell_type": "code",
   "execution_count": 22,
   "metadata": {
    "scrolled": true
   },
   "outputs": [
    {
     "data": {
      "text/html": [
       "<div>\n",
       "<style scoped>\n",
       "    .dataframe tbody tr th:only-of-type {\n",
       "        vertical-align: middle;\n",
       "    }\n",
       "\n",
       "    .dataframe tbody tr th {\n",
       "        vertical-align: top;\n",
       "    }\n",
       "\n",
       "    .dataframe thead th {\n",
       "        text-align: right;\n",
       "    }\n",
       "</style>\n",
       "<table border=\"1\" class=\"dataframe\">\n",
       "  <thead>\n",
       "    <tr style=\"text-align: right;\">\n",
       "      <th></th>\n",
       "      <th>air_temperature</th>\n",
       "      <th>barometric_pressure_qfe</th>\n",
       "      <th>dew_point</th>\n",
       "      <th>global_radiation</th>\n",
       "      <th>humidity</th>\n",
       "      <th>precipitation</th>\n",
       "      <th>water_temperature</th>\n",
       "      <th>wind_direction</th>\n",
       "      <th>wind_force_avg_10min</th>\n",
       "      <th>wind_gust_max_10min</th>\n",
       "      <th>wind_speed_avg_10min</th>\n",
       "      <th>windchill</th>\n",
       "    </tr>\n",
       "  </thead>\n",
       "  <tbody>\n",
       "    <tr>\n",
       "      <th>count</th>\n",
       "      <td>14340.0</td>\n",
       "      <td>14340.0</td>\n",
       "      <td>14340.0</td>\n",
       "      <td>14340.0</td>\n",
       "      <td>14340.0</td>\n",
       "      <td>14340.0</td>\n",
       "      <td>14340.0</td>\n",
       "      <td>14340.0</td>\n",
       "      <td>14340.0</td>\n",
       "      <td>14340.0</td>\n",
       "      <td>14340.0</td>\n",
       "      <td>14340.0</td>\n",
       "    </tr>\n",
       "    <tr>\n",
       "      <th>mean</th>\n",
       "      <td>8.4</td>\n",
       "      <td>965.7</td>\n",
       "      <td>5.8</td>\n",
       "      <td>57.3</td>\n",
       "      <td>84.4</td>\n",
       "      <td>0.0</td>\n",
       "      <td>12.0</td>\n",
       "      <td>183.7</td>\n",
       "      <td>1.8</td>\n",
       "      <td>4.1</td>\n",
       "      <td>2.1</td>\n",
       "      <td>7.1</td>\n",
       "    </tr>\n",
       "    <tr>\n",
       "      <th>std</th>\n",
       "      <td>5.0</td>\n",
       "      <td>9.4</td>\n",
       "      <td>4.5</td>\n",
       "      <td>118.8</td>\n",
       "      <td>10.5</td>\n",
       "      <td>0.1</td>\n",
       "      <td>3.8</td>\n",
       "      <td>110.2</td>\n",
       "      <td>0.8</td>\n",
       "      <td>2.6</td>\n",
       "      <td>1.2</td>\n",
       "      <td>5.4</td>\n",
       "    </tr>\n",
       "    <tr>\n",
       "      <th>min</th>\n",
       "      <td>-1.6</td>\n",
       "      <td>934.1</td>\n",
       "      <td>-5.6</td>\n",
       "      <td>0.0</td>\n",
       "      <td>39.0</td>\n",
       "      <td>0.0</td>\n",
       "      <td>6.3</td>\n",
       "      <td>0.0</td>\n",
       "      <td>0.0</td>\n",
       "      <td>0.0</td>\n",
       "      <td>0.0</td>\n",
       "      <td>-5.8</td>\n",
       "    </tr>\n",
       "    <tr>\n",
       "      <th>25%</th>\n",
       "      <td>4.7</td>\n",
       "      <td>960.1</td>\n",
       "      <td>2.4</td>\n",
       "      <td>0.0</td>\n",
       "      <td>78.0</td>\n",
       "      <td>0.0</td>\n",
       "      <td>8.3</td>\n",
       "      <td>87.0</td>\n",
       "      <td>1.0</td>\n",
       "      <td>2.3</td>\n",
       "      <td>1.3</td>\n",
       "      <td>3.0</td>\n",
       "    </tr>\n",
       "    <tr>\n",
       "      <th>50%</th>\n",
       "      <td>7.9</td>\n",
       "      <td>966.8</td>\n",
       "      <td>5.3</td>\n",
       "      <td>0.0</td>\n",
       "      <td>87.0</td>\n",
       "      <td>0.0</td>\n",
       "      <td>11.6</td>\n",
       "      <td>168.0</td>\n",
       "      <td>2.0</td>\n",
       "      <td>3.4</td>\n",
       "      <td>1.9</td>\n",
       "      <td>6.5</td>\n",
       "    </tr>\n",
       "    <tr>\n",
       "      <th>75%</th>\n",
       "      <td>12.2</td>\n",
       "      <td>971.6</td>\n",
       "      <td>9.7</td>\n",
       "      <td>57.0</td>\n",
       "      <td>93.0</td>\n",
       "      <td>0.0</td>\n",
       "      <td>15.7</td>\n",
       "      <td>296.0</td>\n",
       "      <td>2.0</td>\n",
       "      <td>5.1</td>\n",
       "      <td>2.8</td>\n",
       "      <td>11.3</td>\n",
       "    </tr>\n",
       "    <tr>\n",
       "      <th>max</th>\n",
       "      <td>24.3</td>\n",
       "      <td>988.5</td>\n",
       "      <td>16.0</td>\n",
       "      <td>715.0</td>\n",
       "      <td>100.0</td>\n",
       "      <td>2.0</td>\n",
       "      <td>19.1</td>\n",
       "      <td>360.0</td>\n",
       "      <td>5.0</td>\n",
       "      <td>21.8</td>\n",
       "      <td>8.6</td>\n",
       "      <td>24.1</td>\n",
       "    </tr>\n",
       "  </tbody>\n",
       "</table>\n",
       "</div>"
      ],
      "text/plain": [
       "       air_temperature  barometric_pressure_qfe  dew_point  global_radiation  \\\n",
       "count          14340.0                  14340.0    14340.0           14340.0   \n",
       "mean               8.4                    965.7        5.8              57.3   \n",
       "std                5.0                      9.4        4.5             118.8   \n",
       "min               -1.6                    934.1       -5.6               0.0   \n",
       "25%                4.7                    960.1        2.4               0.0   \n",
       "50%                7.9                    966.8        5.3               0.0   \n",
       "75%               12.2                    971.6        9.7              57.0   \n",
       "max               24.3                    988.5       16.0             715.0   \n",
       "\n",
       "       humidity  precipitation  water_temperature  wind_direction  \\\n",
       "count   14340.0        14340.0            14340.0         14340.0   \n",
       "mean       84.4            0.0               12.0           183.7   \n",
       "std        10.5            0.1                3.8           110.2   \n",
       "min        39.0            0.0                6.3             0.0   \n",
       "25%        78.0            0.0                8.3            87.0   \n",
       "50%        87.0            0.0               11.6           168.0   \n",
       "75%        93.0            0.0               15.7           296.0   \n",
       "max       100.0            2.0               19.1           360.0   \n",
       "\n",
       "       wind_force_avg_10min  wind_gust_max_10min  wind_speed_avg_10min  \\\n",
       "count               14340.0              14340.0               14340.0   \n",
       "mean                    1.8                  4.1                   2.1   \n",
       "std                     0.8                  2.6                   1.2   \n",
       "min                     0.0                  0.0                   0.0   \n",
       "25%                     1.0                  2.3                   1.3   \n",
       "50%                     2.0                  3.4                   1.9   \n",
       "75%                     2.0                  5.1                   2.8   \n",
       "max                     5.0                 21.8                   8.6   \n",
       "\n",
       "       windchill  \n",
       "count    14340.0  \n",
       "mean         7.1  \n",
       "std          5.4  \n",
       "min         -5.8  \n",
       "25%          3.0  \n",
       "50%          6.5  \n",
       "75%         11.3  \n",
       "max         24.1  "
      ]
     },
     "execution_count": 22,
     "metadata": {},
     "output_type": "execute_result"
    }
   ],
   "source": [
    "round(mythenquai_1y.describe(),1)"
   ]
  },
  {
   "cell_type": "markdown",
   "metadata": {},
   "source": [
    "Korrelationen Bereich Temperatur und Feuchte:"
   ]
  },
  {
   "cell_type": "code",
   "execution_count": 23,
   "metadata": {
    "scrolled": true
   },
   "outputs": [
    {
     "data": {
      "text/plain": [
       "<seaborn.axisgrid.PairGrid at 0x2961c0d0>"
      ]
     },
     "execution_count": 23,
     "metadata": {},
     "output_type": "execute_result"
    },
    {
     "data": {
      "image/png": "[encoded data removed]",
      "text/plain": [
       "<Figure size 720x720 with 20 Axes>"
      ]
     },
     "metadata": {},
     "output_type": "display_data"
    }
   ],
   "source": [
    "tiefenbrunnen_adapt_temp = tiefenbrunnen_1y.drop( columns = [\"wind_direction\",\"wind_force_avg_10min\",\n",
    "                                                             \"wind_gust_max_10min\",\"wind_speed_avg_10min\",\n",
    "                                                             \"windchill\", \"barometric_pressure_qfe\"])\n",
    "tiefenbrunnen_adapt_temp = rowindex_as_col(tiefenbrunnen_adapt_temp)\n",
    "tiefenbrunnen_adapt_temp.head()\n",
    "sns.pairplot(tiefenbrunnen_adapt_temp, kind = \"reg\", diag_kind = \"kde\")"
   ]
  },
  {
   "cell_type": "markdown",
   "metadata": {},
   "source": [
    "#### Auffälligkeiten:\n",
    "- Luftfeuchtigkeit sollte mit Temperatur steigen. Erklärung?\n",
    "- Eigentlich sollte der Taupunkt bei 100% relativer Luftfeuchte sein. Erklärung?\n",
    "- Es bestehen positive Korrelationen zwischen Lufttemperatur, Wassertemperatur und Taupunkt.\n",
    "- Negative Korrelationen zwischen Lufttemperatur und Luftfeuchtigkeit.\n",
    "\n",
    "#### Bemerkungen\n",
    "- Barometrischer Druck entfernt, da schwache Korrelationen"
   ]
  },
  {
   "cell_type": "markdown",
   "metadata": {},
   "source": [
    "Korrelationen Bereich Wind:"
   ]
  },
  {
   "cell_type": "code",
   "execution_count": 24,
   "metadata": {},
   "outputs": [
    {
     "data": {
      "text/plain": [
       "<seaborn.axisgrid.PairGrid at 0x24deedd0>"
      ]
     },
     "execution_count": 24,
     "metadata": {},
     "output_type": "execute_result"
    },
    {
     "data": {
      "image/png": "[encoded data removed]",
      "text/plain": [
       "<Figure size 720x720 with 20 Axes>"
      ]
     },
     "metadata": {},
     "output_type": "display_data"
    }
   ],
   "source": [
    "tiefenbrunnen_adapt_wind = tiefenbrunnen_1y.drop( columns = [\"air_temperature\",\"barometric_pressure_qfe\",\"dew_point\",\n",
    "                                                             \"humidity\", \"water_temperature\", \"windchill\"])\n",
    "sns.pairplot(tiefenbrunnen_adapt_wind, kind = \"reg\", diag_kind = \"kde\")"
   ]
  },
  {
   "cell_type": "markdown",
   "metadata": {},
   "source": [
    "#### Auffällligkeiten:\n",
    "- Positive Korrelation zwischen Windrichtung, Geschwindigkeiten und WIndstärke\n",
    "- Starke Positive Korrelation zwischen Windgeschwindigkeit, Stärke"
   ]
  },
  {
   "cell_type": "markdown",
   "metadata": {},
   "source": [
    "#### Zeitliche Datenanalyse"
   ]
  },
  {
   "cell_type": "code",
   "execution_count": 25,
   "metadata": {
    "scrolled": true
   },
   "outputs": [
    {
     "data": {
      "text/plain": [
       "<function matplotlib.pyplot.show(*args, **kw)>"
      ]
     },
     "execution_count": 25,
     "metadata": {},
     "output_type": "execute_result"
    },
    {
     "data": {
      "image/png": "[encoded data removed]",
      "text/plain": [
       "<Figure size 432x288 with 1 Axes>"
      ]
     },
     "metadata": {},
     "output_type": "display_data"
    }
   ],
   "source": [
    "tiefenbrunnen_1y_time = rowindex_as_col(tiefenbrunnen_1y)\n",
    "\n",
    "sns.lineplot(x= tiefenbrunnen_1y_time[\"Time\"], y= tiefenbrunnen_1y_time[\"air_temperature\"])\n",
    "plt.show"
   ]
  },
  {
   "cell_type": "markdown",
   "metadata": {},
   "source": [
    "### Prognose"
   ]
  },
  {
   "cell_type": "markdown",
   "metadata": {},
   "source": [
    "Als Referenz werden die Temperaturdaten aus dem Jahr 2018 genommen"
   ]
  },
  {
   "cell_type": "code",
   "execution_count": 26,
   "metadata": {},
   "outputs": [],
   "source": [
    "path_2_file = \"../influxdb-1.7.8-1/data/messwerte_mythenquai_2007-2018.csv\"\n",
    "df_prediction = pd.read_csv(path_2_file, index_col=0)\n",
    "#df_prediction.head()"
   ]
  },
  {
   "cell_type": "code",
   "execution_count": 29,
   "metadata": {},
   "outputs": [
    {
     "data": {
      "text/plain": [
       "52213"
      ]
     },
     "execution_count": 29,
     "metadata": {},
     "output_type": "execute_result"
    }
   ],
   "source": [
    "df_pred = df_prediction\n",
    "df_pred.index = pd.to_datetime(df_pred.index)\n",
    "\n",
    "df_pred = df_pred.loc[\"2018-01-01\":\"2018-12-31\"]\n",
    "\n",
    "len(df_pred)"
   ]
  },
  {
   "cell_type": "markdown",
   "metadata": {},
   "source": [
    "#### Verfahren mit Kolmogorov-Smirnoff Test:    "
   ]
  },
  {
   "cell_type": "markdown",
   "metadata": {},
   "source": [
    "Es werden Daten von zwei Jahren in zwei Tage gruppiert. Die gruppierten Daten werden dann mit\n",
    "dem aktuellen \"ganzen\" Tag verglichen und geben dann die Temperatur für den nachfolgenden Tag aus."
   ]
  },
  {
   "cell_type": "code",
   "execution_count": 30,
   "metadata": {},
   "outputs": [],
   "source": [
    "def get_values_in_grouped_days(df, column, group_string, group_int):\n",
    "    \"\"\" \n",
    "    Splits distributions in separate lists of days together as new list of values. This DF is always used as reference to determine temperature of next day.\n",
    "    Input: df = vector or dataframe, column = specific column index, group_string = \"3D\", \"D\", group_int = integer days want to group\n",
    "    \"\"\" \n",
    "    \n",
    "    df.index = pd.to_datetime(df.index) ## Index conversion to datetime\n",
    "    day_shift = -1\n",
    "\n",
    "    df1 = df.iloc[:, column]\n",
    "    \n",
    "    grouped_df = df1.resample(group_string).aggregate(lambda tdf: tdf.tolist()) #Creates new df by grouping days\n",
    "    grouped_df = pd.DataFrame(grouped_df)\n",
    "    \n",
    "    df2 = df.iloc[:, column]\n",
    "    \n",
    "    grouped_df_max = df2.resample(\"D\").aggregate(lambda tdf: tdf.max())\n",
    "    grouped_df_max = pd.DataFrame(grouped_df_max)\n",
    "    grouped_df_max = grouped_df_max[::group_int].iloc[1:] ## takes each third row and drops the first one\n",
    "\n",
    "    new_df = pd.concat([grouped_df, grouped_df_max], axis = 1)\n",
    "    new_df = new_df.shift(day_shift).dropna() \n",
    "    new_df.columns = [\"grouped_values\", \"Temp_next_day\"]\n",
    "    \n",
    "    return new_df\n",
    "     "
   ]
  },
  {
   "cell_type": "code",
   "execution_count": 31,
   "metadata": {},
   "outputs": [
    {
     "data": {
      "text/html": [
       "<div>\n",
       "<style scoped>\n",
       "    .dataframe tbody tr th:only-of-type {\n",
       "        vertical-align: middle;\n",
       "    }\n",
       "\n",
       "    .dataframe tbody tr th {\n",
       "        vertical-align: top;\n",
       "    }\n",
       "\n",
       "    .dataframe thead th {\n",
       "        text-align: right;\n",
       "    }\n",
       "</style>\n",
       "<table border=\"1\" class=\"dataframe\">\n",
       "  <thead>\n",
       "    <tr style=\"text-align: right;\">\n",
       "      <th></th>\n",
       "      <th>grouped_values</th>\n",
       "      <th>Temp_next_day</th>\n",
       "    </tr>\n",
       "    <tr>\n",
       "      <th>timestamp_cet</th>\n",
       "      <th></th>\n",
       "      <th></th>\n",
       "    </tr>\n",
       "  </thead>\n",
       "  <tbody>\n",
       "    <tr>\n",
       "      <th>2018-01-01</th>\n",
       "      <td>[5.9, 5.8, 5.6, 5.5, 5.2, 5.0, 5.1, 5.1, 5.1, ...</td>\n",
       "      <td>7.4</td>\n",
       "    </tr>\n",
       "    <tr>\n",
       "      <th>2018-01-02</th>\n",
       "      <td>[4.1, 4.1, 4.1, 4.0, 4.1, 4.1, 3.9, 3.9, 3.9, ...</td>\n",
       "      <td>14.5</td>\n",
       "    </tr>\n",
       "    <tr>\n",
       "      <th>2018-01-03</th>\n",
       "      <td>[6.0, 6.3, 6.3, 5.8, 5.6, 5.6, 5.7, 6.0, 6.1, ...</td>\n",
       "      <td>13.7</td>\n",
       "    </tr>\n",
       "    <tr>\n",
       "      <th>2018-01-04</th>\n",
       "      <td>[12.4, 12.5, 12.4, 12.3, 12.2, 12.0, 11.9, 11....</td>\n",
       "      <td>13.0</td>\n",
       "    </tr>\n",
       "    <tr>\n",
       "      <th>2018-01-05</th>\n",
       "      <td>[8.5, 8.5, 8.1, 7.6, 7.5, 7.5, 7.5, 7.3, 7.3, ...</td>\n",
       "      <td>8.5</td>\n",
       "    </tr>\n",
       "  </tbody>\n",
       "</table>\n",
       "</div>"
      ],
      "text/plain": [
       "                                                  grouped_values  \\\n",
       "timestamp_cet                                                      \n",
       "2018-01-01     [5.9, 5.8, 5.6, 5.5, 5.2, 5.0, 5.1, 5.1, 5.1, ...   \n",
       "2018-01-02     [4.1, 4.1, 4.1, 4.0, 4.1, 4.1, 3.9, 3.9, 3.9, ...   \n",
       "2018-01-03     [6.0, 6.3, 6.3, 5.8, 5.6, 5.6, 5.7, 6.0, 6.1, ...   \n",
       "2018-01-04     [12.4, 12.5, 12.4, 12.3, 12.2, 12.0, 11.9, 11....   \n",
       "2018-01-05     [8.5, 8.5, 8.1, 7.6, 7.5, 7.5, 7.5, 7.3, 7.3, ...   \n",
       "\n",
       "               Temp_next_day  \n",
       "timestamp_cet                 \n",
       "2018-01-01               7.4  \n",
       "2018-01-02              14.5  \n",
       "2018-01-03              13.7  \n",
       "2018-01-04              13.0  \n",
       "2018-01-05               8.5  "
      ]
     },
     "execution_count": 31,
     "metadata": {},
     "output_type": "execute_result"
    }
   ],
   "source": [
    "sample_df = get_values_in_grouped_days(df_pred, 0, \"1D\", 1)\n",
    "sample_df.head()"
   ]
  },
  {
   "cell_type": "code",
   "execution_count": 32,
   "metadata": {},
   "outputs": [],
   "source": [
    "#df_max = df_prediction.loc[\"2010-08-02\":\"2018-08-02\"].max()\n",
    "\n",
    "df_test = df_prediction.loc[\"2010-01-01\":\"2017-12-31\"]\n",
    "df_test = df_test.iloc[:,0]\n",
    "df_test = pd.DataFrame(df_test)\n",
    "\n",
    "df_test2 = df_prediction.loc[\"2018-01-11\":\"2018-01-12\"]\n",
    "\n",
    "#df_test = df_test.reset_index(drop = True)\n",
    "#df_test.head()\n",
    "#df_test2\n",
    "#df_max"
   ]
  },
  {
   "cell_type": "markdown",
   "metadata": {},
   "source": [
    "### Vorhersage mit KS-Test"
   ]
  },
  {
   "cell_type": "code",
   "execution_count": 33,
   "metadata": {},
   "outputs": [],
   "source": [
    "from scipy import stats as spstats\n",
    "\n",
    "def prediction_ks_test(df_for_test, sample_df):\n",
    "    \"\"\"Predicts the value of next day by using the statistical KS-Test of Scipy package. It's used to compare the distributions of two\n",
    "    test samples. The higher the probability value the better is the fit.\n",
    "    Input: df_for_test: dataframe of one day to perform the test / sample_df: specific sample df as reference\n",
    "    Returns: fitting maximum temperature of next day\n",
    "    \"\"\"\n",
    "    KS_p_val_to_compare = 0\n",
    "    fitting_temp_next_day = 0\n",
    "    iterations = 0 ## length not equal of sample df \n",
    "        \n",
    "    for row in range(0, len(sample_df)):\n",
    "                                \n",
    "        KS_stat, KS_p_val = spstats.ks_2samp(df_for_test.iloc[:, 0], sample_df.iloc[row, 0]) # Perform t-test\n",
    "          \n",
    "        if KS_p_val > KS_p_val_to_compare:\n",
    "            KS_p_val_to_compare = KS_p_val\n",
    "            fitting_temp_next_day = sample_df.iloc[row, 1]\n",
    "            \n",
    "        iterations = iterations + 1        \n",
    "            \n",
    "    #print(\"P-Wert: {} / Iterations: {} / Fitting Temp.: {}\".format(KS_p_val_to_compare, iterations, fitting_temp_next_day))                                                                                                                            \n",
    "    \n",
    "    return fitting_temp_next_day\n",
    "     "
   ]
  },
  {
   "cell_type": "markdown",
   "metadata": {},
   "source": [
    "#### Performance Kolmogorov-Smirnoff:\n",
    "Der Durchschnitt aller Messwerte aus einem Jahr.\n"
   ]
  },
  {
   "cell_type": "code",
   "execution_count": 34,
   "metadata": {},
   "outputs": [],
   "source": [
    "def prediction_test_KS(df_test, sample_df, days_used_for_prediction):\n",
    "    \"\"\"Purpose is to test a generated prediction method of one year. Calculates the average deviation of one simulative test year\n",
    "    Parameters: df_test = df which should be tested(first column) / days_used_... = 1d (how much days're used for the prediction)\n",
    "    \"\"\"\n",
    "    days_offset = days_used_for_prediction         \n",
    "    start_date_str = \"2015-01-01\" ## Check all Values for this year\n",
    "    start_date = datetime.datetime.strptime(start_date_str,  \"%Y-%m-%d\")\n",
    "    days_in_df_test = len(df_test.index.dayofyear.unique())\n",
    "    \n",
    "    test_results = np.array([])\n",
    "    \n",
    "    for day in range(days_used_for_prediction, days_in_df_test):\n",
    "        ## Maximum Temperature of +1day or how much \n",
    "        time_delta1,time_delta2 = datetime.timedelta(days = day), datetime.timedelta(days = day + 1)\n",
    "        val_date1, val_date2 = start_date + time_delta1, start_date + time_delta2      ## Valuable date\n",
    "         \n",
    "        df_ref = df_test.loc[val_date1:val_date2]\n",
    "        ## df_max = df_ref.values.max()\n",
    "        if df_ref.empty == False:\n",
    "            df_max = np.max(df_ref)\n",
    "        \n",
    "        ###### Function part: KS_test \n",
    "        KS_time_delta = datetime.timedelta(days = day - days_used_for_prediction) ## time-frame for prediction\n",
    "        KS_val_date1, KS_val_date2 = start_date + KS_time_delta, start_date + time_delta1 ## same as ttest_timedelta +1\n",
    "        KS_df_test = df_test.loc[KS_val_date1 : KS_val_date2]\n",
    "        \n",
    "        if KS_df_test.empty == False:\n",
    "            KS_test_temp = prediction_ks_test(KS_df_test, sample_df)\n",
    "        \n",
    "        deviation_test = abs(df_max - KS_test_temp) ## Absolute difference to real value\n",
    "        \n",
    "        test_results = np.append(test_results, deviation_test)\n",
    "            \n",
    "    test_result = np.mean(test_results)\n",
    "        \n",
    "    print(\"The average deviation of a year: {} K\".format(test_result))\n",
    "\n",
    "    return test_results\n"
   ]
  },
  {
   "cell_type": "code",
   "execution_count": 35,
   "metadata": {
    "scrolled": true
   },
   "outputs": [
    {
     "name": "stdout",
     "output_type": "stream",
     "text": [
      "The average deviation of a year: 2.847123287671233 K\n"
     ]
    }
   ],
   "source": [
    "test_results = prediction_test_KS(df_test, sample_df, 1)"
   ]
  },
  {
   "cell_type": "code",
   "execution_count": 36,
   "metadata": {},
   "outputs": [
    {
     "name": "stdout",
     "output_type": "stream",
     "text": [
      "365\n"
     ]
    },
    {
     "data": {
      "image/png": "[encoded data removed]",
      "text/plain": [
       "<Figure size 432x288 with 1 Axes>"
      ]
     },
     "metadata": {},
     "output_type": "display_data"
    }
   ],
   "source": [
    "print(len(test_results))\n",
    "sns.distplot(test_results, kde = False)\n",
    "plt.show()"
   ]
  }
 ],
 "metadata": {
  "celltoolbar": "Raw Cell Format",
  "kernelspec": {
   "display_name": "Python 3",
   "language": "python",
   "name": "python3"
  },
  "language_info": {
   "codemirror_mode": {
    "name": "ipython",
    "version": 3
   },
   "file_extension": ".py",
   "mimetype": "text/x-python",
   "name": "python",
   "nbconvert_exporter": "python",
   "pygments_lexer": "ipython3",
   "version": "3.7.4"
  }
 },
 "nbformat": 4,
 "nbformat_minor": 4
}
